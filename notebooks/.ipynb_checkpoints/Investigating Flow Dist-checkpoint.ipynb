{
 "cells": [
  {
   "cell_type": "code",
   "execution_count": 57,
   "metadata": {},
   "outputs": [],
   "source": [
    "import pandas as pd\n",
    "from os.path import join\n",
    "#dataroot = '/data/juma/data/ids18/CSVs/WS_l_old/'\n",
    "dataroot = '/data/juma/data/ids18/CSVs_r_1.0/SR_10/RPS_SI_10_l/'"
   ]
  },
  {
   "cell_type": "code",
   "execution_count": 59,
   "metadata": {},
   "outputs": [
    {
     "data": {
      "text/plain": [
       "Benign              6308325\n",
       "DDoS-HOIC             32803\n",
       "DDoS-LOIC-HTTP        26572\n",
       "SSH-BruteForce         2825\n",
       "DoS-Hulk               2823\n",
       "FTP-BruteForce         2675\n",
       "DoS-GoldenEye          2436\n",
       "DoS-SlowHTTPTest       2247\n",
       "DoS-Slowloris           977\n",
       "DDoS-LOIC-UDP           126\n",
       "Brute Force-Web          81\n",
       "Brute Force-XSS          47\n",
       "SQL Injection            15\n",
       "Infiltration              1\n",
       "Name: Label, dtype: int64"
      ]
     },
     "execution_count": 59,
     "metadata": {},
     "output_type": "execute_result"
    }
   ],
   "source": [
    "fn = join(dataroot,'fold_0.csv')\n",
    "cols = ['Flow ID','Day','Label']\n",
    "df0 = pd.read_csv(fn, usecols=cols, dtype={'Flow ID':str,'Day':str,'Label':str})\n",
    "df0 = df0.drop_duplicates(subset=cols)\n",
    "ds0 = df0['Label'].value_counts()\n",
    "ds0"
   ]
  },
  {
   "cell_type": "code",
   "execution_count": null,
   "metadata": {},
   "outputs": [],
   "source": [
    "fn = join(dataroot,'fold_1.csv')\n",
    "df1 = pd.read_csv(fn,usecols=cols, dtype={'Flow ID':str,'Day':str,'Label':str})\n",
    "df1 = df1.drop_duplicates(subset=cols)\n",
    "ds1 = df1['Label'].value_counts()\n",
    "ds1"
   ]
  },
  {
   "cell_type": "code",
   "execution_count": null,
   "metadata": {},
   "outputs": [],
   "source": [
    "fn = join(dataroot,'fold_2.csv')\n",
    "df2 = pd.read_csv(fn,usecols=cols, dtype={'Flow ID':str,'Day':str,'Label':str})\n",
    "df2 = df2.drop_duplicates(subset=cols)\n",
    "ds2 = df2['Label'].value_counts()\n",
    "ds2"
   ]
  },
  {
   "cell_type": "code",
   "execution_count": null,
   "metadata": {},
   "outputs": [],
   "source": [
    "fn = join(dataroot,'fold_3.csv')\n",
    "df3 = pd.read_csv(fn,usecols=cols, dtype={'Flow ID':str,'Day':str,'Label':str})\n",
    "df3 = df3.drop_duplicates(subset=cols)\n",
    "ds3 = df3['Label'].value_counts()\n",
    "ds3"
   ]
  },
  {
   "cell_type": "code",
   "execution_count": 47,
   "metadata": {},
   "outputs": [
    {
     "data": {
      "text/plain": [
       "Benign              16429622\n",
       "DDoS-LOIC-HTTP         32921\n",
       "DDoS-HOIC              32838\n",
       "DoS-GoldenEye           2981\n",
       "SSH-BruteForce          2829\n",
       "FTP-BruteForce          2824\n",
       "DoS-Hulk                2823\n",
       "DoS-SlowHTTPTest        2823\n",
       "DoS-Slowloris           1450\n",
       "DDoS-LOIC-UDP            605\n",
       "Brute Force-Web          105\n",
       "Brute Force-XSS           47\n",
       "SQL Injection             23\n",
       "Infiltration               1\n",
       "Name: Label, dtype: int64"
      ]
     },
     "execution_count": 47,
     "metadata": {},
     "output_type": "execute_result"
    }
   ],
   "source": [
    "fn = join(dataroot,'fold_4.csv')\n",
    "df4 = pd.read_csv(fn,usecols=cols, dtype={'Flow ID':str,'Day':str,'Label':str})\n",
    "df4 = df4.drop_duplicates(subset=cols)\n",
    "ds4 = df4['Label'].value_counts()\n",
    "ds4"
   ]
  },
  {
   "cell_type": "code",
   "execution_count": 48,
   "metadata": {},
   "outputs": [],
   "source": [
    "ds = ds0+ds1+ds2+ds3+ds4"
   ]
  },
  {
   "cell_type": "code",
   "execution_count": 49,
   "metadata": {},
   "outputs": [
    {
     "data": {
      "text/plain": [
       "(82559153, 3)"
      ]
     },
     "execution_count": 49,
     "metadata": {},
     "output_type": "execute_result"
    }
   ],
   "source": [
    "df = pd.concat([df1,df2,df3,df4,df5])\n",
    "df.shape"
   ]
  },
  {
   "cell_type": "code",
   "execution_count": 50,
   "metadata": {},
   "outputs": [
    {
     "data": {
      "text/plain": [
       "Benign              82147837\n",
       "DDoS-LOIC-HTTP        164601\n",
       "DDoS-HOIC             164230\n",
       "DoS-GoldenEye          14937\n",
       "SSH-BruteForce         14146\n",
       "FTP-BruteForce         14116\n",
       "DoS-SlowHTTPTest       14116\n",
       "DoS-Hulk               14116\n",
       "DoS-Slowloris           7248\n",
       "DDoS-LOIC-UDP           2896\n",
       "Brute Force-Web          562\n",
       "Brute Force-XSS          240\n",
       "SQL Injection            102\n",
       "Infiltration               6\n",
       "Name: Label, dtype: int64"
      ]
     },
     "execution_count": 50,
     "metadata": {},
     "output_type": "execute_result"
    }
   ],
   "source": [
    "df.Label.value_counts()"
   ]
  },
  {
   "cell_type": "code",
   "execution_count": 51,
   "metadata": {},
   "outputs": [
    {
     "data": {
      "text/plain": [
       "Benign              47686181\n",
       "DDoS-HOIC             163750\n",
       "DDoS-LOIC-HTTP        163439\n",
       "SSH-BruteForce         14146\n",
       "FTP-BruteForce         14116\n",
       "DoS-GoldenEye          14116\n",
       "DoS-SlowHTTPTest       14116\n",
       "DoS-Hulk               14116\n",
       "DoS-Slowloris           7248\n",
       "DDoS-LOIC-UDP           1786\n",
       "Brute Force-Web          260\n",
       "Brute Force-XSS          117\n",
       "SQL Injection             50\n",
       "Infiltration               5\n",
       "Name: Label, dtype: int64"
      ]
     },
     "execution_count": 51,
     "metadata": {},
     "output_type": "execute_result"
    }
   ],
   "source": [
    "df.drop_duplicates(subset=cols).Label.value_counts()"
   ]
  },
  {
   "cell_type": "code",
   "execution_count": null,
   "metadata": {},
   "outputs": [],
   "source": []
  }
 ],
 "metadata": {
  "kernelspec": {
   "display_name": "Python 3",
   "language": "python",
   "name": "python3"
  },
  "language_info": {
   "codemirror_mode": {
    "name": "ipython",
    "version": 3
   },
   "file_extension": ".py",
   "mimetype": "text/x-python",
   "name": "python",
   "nbconvert_exporter": "python",
   "pygments_lexer": "ipython3",
   "version": "3.5.2"
  }
 },
 "nbformat": 4,
 "nbformat_minor": 4
}
