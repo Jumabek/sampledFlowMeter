{
 "cells": [
  {
   "cell_type": "code",
   "execution_count": 11,
   "metadata": {},
   "outputs": [
    {
     "ename": "ModuleNotFoundError",
     "evalue": "No module named 'utils'",
     "output_type": "error",
     "traceback": [
      "\u001b[0;31m---------------------------------------------------------------------------\u001b[0m",
      "\u001b[0;31mModuleNotFoundError\u001b[0m                       Traceback (most recent call last)",
      "\u001b[0;32m<ipython-input-11-873fa96518dd>\u001b[0m in \u001b[0;36m<module>\u001b[0;34m\u001b[0m\n\u001b[1;32m      7\u001b[0m \u001b[0;32mimport\u001b[0m \u001b[0mglob\u001b[0m\u001b[0;34m\u001b[0m\u001b[0;34m\u001b[0m\u001b[0m\n\u001b[1;32m      8\u001b[0m \u001b[0;32mfrom\u001b[0m \u001b[0mtqdm\u001b[0m \u001b[0;32mimport\u001b[0m \u001b[0mtqdm\u001b[0m\u001b[0;34m\u001b[0m\u001b[0;34m\u001b[0m\u001b[0m\n\u001b[0;32m----> 9\u001b[0;31m \u001b[0;32mfrom\u001b[0m \u001b[0mutils\u001b[0m \u001b[0;32mimport\u001b[0m \u001b[0mmatplotlib_setup\u001b[0m\u001b[0;34m\u001b[0m\u001b[0;34m\u001b[0m\u001b[0m\n\u001b[0m\u001b[1;32m     10\u001b[0m \u001b[0;32mimport\u001b[0m \u001b[0mmatplotlib\u001b[0m\u001b[0;34m.\u001b[0m\u001b[0mpyplot\u001b[0m \u001b[0;32mas\u001b[0m \u001b[0mplt\u001b[0m\u001b[0;34m\u001b[0m\u001b[0;34m\u001b[0m\u001b[0m\n\u001b[1;32m     11\u001b[0m \u001b[0mget_ipython\u001b[0m\u001b[0;34m(\u001b[0m\u001b[0;34m)\u001b[0m\u001b[0;34m.\u001b[0m\u001b[0mrun_line_magic\u001b[0m\u001b[0;34m(\u001b[0m\u001b[0;34m'matplotlib'\u001b[0m\u001b[0;34m,\u001b[0m \u001b[0;34m'inline'\u001b[0m\u001b[0;34m)\u001b[0m\u001b[0;34m\u001b[0m\u001b[0;34m\u001b[0m\u001b[0m\n",
      "\u001b[0;31mModuleNotFoundError\u001b[0m: No module named 'utils'"
     ]
    }
   ],
   "source": [
    "import numpy as np\n",
    "from collections import defaultdict\n",
    "import os\n",
    "from os.path import join \n",
    "import time\n",
    "import pandas as pd\n",
    "import glob\n",
    "from tqdm import tqdm\n",
    "from utils import matplotlib_setup\n",
    "import matplotlib.pyplot as plt\n",
    "%matplotlib inline\n",
    "from matplotlib import rcParams"
   ]
  },
  {
   "cell_type": "code",
   "execution_count": 9,
   "metadata": {},
   "outputs": [],
   "source": [
    "def read_data(dataroot,file_ending='*Meter.csv'):\n",
    "    fields = ['Flow ID','Tot Fwd Pkts','Tot Bwd Pkts','Label','Timestamp']\n",
    "    \n",
    "    print(join(dataroot,file_ending))\n",
    "    filenames = [i for i in glob.glob(join(dataroot,file_ending))]\n",
    "    \n",
    "    df_list = []\n",
    "    for filename in tqdm(filenames):\n",
    "        df = pd.read_csv(filename,dtype=object,usecols=fields)        \n",
    "        df_list.append(df)\n",
    "    combined_csv = pd.concat(df_list,sort=False)\n",
    "    combined_csv['Day'] = combined_csv['Timestamp'].map(lambda x: x[:2]).astype(str) # type string\n",
    "    combined_csv['flow_length']=(combined_csv['Tot Fwd Pkts'].astype(float)+combined_csv['Tot Bwd Pkts'].astype(float))\n",
    "    combined_csv.drop(columns=['Tot Fwd Pkts','Tot Bwd Pkts'])\n",
    "    return combined_csv"
   ]
  },
  {
   "cell_type": "code",
   "execution_count": 12,
   "metadata": {},
   "outputs": [],
   "source": [
    "def matplotlib_setup(fontsize=45):\n",
    "    font = {'size'   : fontsize}\n",
    "    plt.rc('font', **font)\n",
    "    plt.rcParams[\"axes.linewidth\"]  = 2.5\n",
    "    plt.grid(linewidth=3,axis='y', color='grey')\n",
    "\n",
    "    CB91_Blue = '#2CBDFE'\n",
    "    CB91_Green = '#47DBCD'\n",
    "    CB91_Pink = '#F3A0F2'\n",
    "    CB91_Purple = '#9D2EC5'\n",
    "    CB91_Violet = '#661D98'\n",
    "    CB91_Amber = '#F5B14C'\n",
    "    color_list = [CB91_Blue, CB91_Pink, CB91_Green, CB91_Amber,\n",
    "              CB91_Purple, CB91_Violet]\n",
    "\n",
    "    plt.rcParams['axes.prop_cycle'] = plt.cycler(color=color_list)\n",
    "    return plt\n"
   ]
  },
  {
   "cell_type": "code",
   "execution_count": 5,
   "metadata": {},
   "outputs": [
    {
     "name": "stdout",
     "output_type": "stream",
     "text": [
      "/data/juma/data/ids18/CSVs_r_1.0_m_1.0/WS_l/*Meter.csv\n"
     ]
    }
   ],
   "source": [
    "dataroot = '/data/juma/data/ids18/CSVs_r_1.0_m_1.0/WS_l'\n",
    "#dataroot = '/data/juma/data/ids18/CSVs_r_1.0/SR_10/RPS_SI_10_l'\n",
    "data= read_data(dataroot)"
   ]
  },
  {
   "cell_type": "code",
   "execution_count": 6,
   "metadata": {},
   "outputs": [
    {
     "name": "stdout",
     "output_type": "stream",
     "text": [
      "#flowRecords vs #flows {} vs. {} 92151550 47016496\n"
     ]
    }
   ],
   "source": [
    "gdata = data.groupby(['Flow ID','Day','Label'],as_index=False).sum()\n",
    "\n",
    "print(\"#flowRecords vs #flows {} vs. {}\",data.shape[0],gdata.shape[0])\n",
    "   \n",
    "\n",
    "step=0.05\n",
    "indices = np.arange(0,1+step,step)\n",
    "grouping_by_label = gdata.groupby(['Label'])\n",
    "labels = gdata.Label.unique()\n",
    "##flowRecords vs #flows {} vs. {} 94536412 34446318"
   ]
  },
  {
   "cell_type": "code",
   "execution_count": 15,
   "metadata": {},
   "outputs": [],
   "source": []
  },
  {
   "cell_type": "code",
   "execution_count": null,
   "metadata": {},
   "outputs": [],
   "source": [
    "\n",
    "#drawing\n",
    "matplotlib_setup()\n",
    "font = {'size'   : 50}\n",
    "plt.rc('font', **font)\n",
    "plt.rcParams[\"axes.linewidth\"]  = 2.5\n",
    "fig, ax = plt.subplots(nrows=1,ncols=1,sharex=False,figsize=(40,15))\n",
    "markers = ['s','*','<','o','^','d','D','>','*','<','o','^','d','D']\n",
    "for i,label in enumerate(labels):\n",
    "    quantile = grouping_by_label.get_group(label)['flow_length'].quantile(indices)\n",
    "    if label=='Benign':\n",
    "        msize= 30\n",
    "    else:\n",
    "        msize = 25\n",
    "    plt.plot(quantile,indices,label=label,linewidth=6,marker=markers[i],markersize=msize,markeredgewidth=5,markerfacecolor='none')\n",
    "\n",
    "\n",
    "plt.xscale('log')\n",
    "plt.xlabel('Flow Size (logscale)')\n",
    "plt.ylabel('CDF')\n",
    "#plt.ylim(0,3.5)\n",
    "plt.ylim()\n",
    "plt.grid(linewidth=5)\n",
    "box = ax.get_position()\n",
    "ax.set_position([box.x0, box.y0 + box.height * 0.1,\n",
    "                 box.width, box.height * 0.9])\n",
    "plt.legend(loc='upper center', bbox_to_anchor=(0.5, -0.25),\n",
    "          fancybox=True, shadow=True, ncol=4)\n",
    "fig.tight_layout()\n",
    "plt.savefig(join(dataroot,'flow_length_percentile.png'),dpi=100)\n",
    "plt.show()\n"
   ]
  },
  {
   "cell_type": "code",
   "execution_count": null,
   "metadata": {},
   "outputs": [],
   "source": []
  },
  {
   "cell_type": "code",
   "execution_count": null,
   "metadata": {},
   "outputs": [],
   "source": []
  }
 ],
 "metadata": {
  "kernelspec": {
   "display_name": "Python 3",
   "language": "python",
   "name": "python3"
  },
  "language_info": {
   "codemirror_mode": {
    "name": "ipython",
    "version": 3
   },
   "file_extension": ".py",
   "mimetype": "text/x-python",
   "name": "python",
   "nbconvert_exporter": "python",
   "pygments_lexer": "ipython3",
   "version": "3.7.6"
  }
 },
 "nbformat": 4,
 "nbformat_minor": 2
}
