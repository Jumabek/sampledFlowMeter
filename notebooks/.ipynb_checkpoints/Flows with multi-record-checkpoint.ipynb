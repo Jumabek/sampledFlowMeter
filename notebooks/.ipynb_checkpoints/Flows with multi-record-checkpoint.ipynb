{
 "cells": [
  {
   "cell_type": "code",
   "execution_count": 3,
   "metadata": {},
   "outputs": [],
   "source": [
    "import pandas as pd\n",
    "from os.path import join"
   ]
  },
  {
   "cell_type": "code",
   "execution_count": 2,
   "metadata": {},
   "outputs": [],
   "source": [
    "dataroot = '/data/juma/data/ids18/CSVs_r_1.0_m_0.2/SR_10/SFS_SI_9.77_l/'"
   ]
  },
  {
   "cell_type": "code",
   "execution_count": 7,
   "metadata": {},
   "outputs": [],
   "source": [
    "def get_dtype():\n",
    "    return {'Flow ID':str , 'Dst Port':int , 'Protocol':int, 'Timestamp': str,\n",
    "       'Flow Duration':int , 'Tot Fwd Pkts':int , 'Tot Bwd Pkts': int,\n",
    "       'TotLen Fwd Pkts':int , 'TotLen Bwd Pkts':int , 'Fwd Pkt Len Max':int,\n",
    "       'Fwd Pkt Len Min':int , 'Fwd Pkt Len Mean':float , 'Fwd Pkt Len Std':float,\n",
    "       'Bwd Pkt Len Max':int , 'Bwd Pkt Len Min':int , 'Bwd Pkt Len Mean':float,\n",
    "       'Bwd Pkt Len Std':float , 'Flow Byts/s':float , 'Flow Pkts/s':float, 'Flow IAT Mean':float,\n",
    "       'Flow IAT Std':float , 'Flow IAT Max':int , 'Flow IAT Min':int , 'Fwd IAT Tot':int,\n",
    "       'Fwd IAT Mean':float , 'Fwd IAT Std':float , 'Fwd IAT Max':int , 'Fwd IAT Min':int,\n",
    "       'Bwd IAT Tot':int , 'Bwd IAT Mean':float , 'Bwd IAT Std':float , 'Bwd IAT Max':int,\n",
    "       'Bwd IAT Min':int , 'Fwd PSH Flags':int , 'Bwd PSH Flags':int , 'Fwd URG Flags':int,\n",
    "       'Bwd URG Flags':int , 'Fwd Header Len':int , 'Bwd Header Len':int , 'Fwd Pkts/s':float,\n",
    "       'Bwd Pkts/s':float , 'Pkt Len Min':int , 'Pkt Len Max':int , 'Pkt Len Mean':float,\n",
    "       'Pkt Len Std':float , 'Pkt Len Var':float , 'FIN Flag Cnt':int , 'SYN Flag Cnt':int,\n",
    "       'RST Flag Cnt':int , 'PSH Flag Cnt':int , 'ACK Flag Cnt':int , 'URG Flag Cnt':int,\n",
    "       'CWE Flag Count':int , 'ECE Flag Cnt':int , 'Down/Up Ratio':float , 'Pkt Size Avg':float,\n",
    "       'Fwd Seg Size Avg':float , 'Bwd Seg Size Avg':float , 'Fwd Byts/b Avg':float,\n",
    "       'Fwd Pkts/b Avg':float , 'Fwd Blk Rate Avg':float , 'Bwd Byts/b Avg':float,\n",
    "       'Bwd Pkts/b Avg':float , 'Bwd Blk Rate Avg':float , 'Subflow Fwd Pkts':float,\n",
    "       'Subflow Fwd Byts':float , 'Subflow Bwd Pkts':float , 'Subflow Bwd Byts':float,\n",
    "       'Init Fwd Win Byts':int , 'Init Bwd Win Byts':int , 'Fwd Act Data Pkts':int,\n",
    "       'Fwd Seg Size Min':int , 'Active Mean':float , 'Active Std':float , 'Active Max':float,\n",
    "       'Active Min':float , 'Idle Mean':float , 'Idle Std':float , 'Idle Max':float , 'Idle Min':float , 'Label':str}\n"
   ]
  },
  {
   "cell_type": "code",
   "execution_count": 26,
   "metadata": {},
   "outputs": [],
   "source": [
    "df_all = pd.read_csv(join(dataroot,'fold_0.csv'), usecols=['Flow ID', 'Label','Timestamp'], dtype=get_dtype())\n",
    "\n"
   ]
  },
  {
   "cell_type": "code",
   "execution_count": 29,
   "metadata": {},
   "outputs": [],
   "source": [
    "df_all['Day'] = df_all['Timestamp'].map(lambda x: x[:2]).astype(str) # type string"
   ]
  },
  {
   "cell_type": "code",
   "execution_count": 27,
   "metadata": {},
   "outputs": [],
   "source": [
    "labels = df_all['Label'].unique()"
   ]
  },
  {
   "cell_type": "code",
   "execution_count": 28,
   "metadata": {},
   "outputs": [
    {
     "data": {
      "text/plain": [
       "array(['Infiltration', 'DoS-Slowloris', 'DoS-GoldenEye', 'FTP-BruteForce',\n",
       "       'SSH-BruteForce', 'DoS-SlowHTTPTest', 'DoS-Hulk', 'DDoS-LOIC-HTTP',\n",
       "       'DDoS-HOIC', 'Brute Force-XSS', 'Brute Force-Web', 'SQL Injection',\n",
       "       'DDoS-LOIC-UDP', 'Benign'], dtype=object)"
      ]
     },
     "execution_count": 28,
     "metadata": {},
     "output_type": "execute_result"
    }
   ],
   "source": [
    "labels"
   ]
  },
  {
   "cell_type": "code",
   "execution_count": null,
   "metadata": {},
   "outputs": [],
   "source": []
  },
  {
   "cell_type": "code",
   "execution_count": 35,
   "metadata": {},
   "outputs": [
    {
     "name": "stdout",
     "output_type": "stream",
     "text": [
      "Infiltration\n",
      "100.0% is has at least 2 records\n",
      "------------------\n",
      "DoS-Slowloris\n",
      "29.7029702970297% is has at least 2 records\n",
      "------------------\n",
      "DoS-GoldenEye\n",
      "70.67968185104844% is has at least 2 records\n",
      "------------------\n",
      "FTP-BruteForce\n",
      "91.40206921155905% is has at least 2 records\n",
      "------------------\n",
      "SSH-BruteForce\n",
      "99.96458923512748% is has at least 2 records\n",
      "------------------\n",
      "DoS-SlowHTTPTest\n",
      "53.57826253348641% is has at least 2 records\n",
      "------------------\n",
      "DoS-Hulk\n",
      "100.0% is has at least 2 records\n",
      "------------------\n",
      "DDoS-LOIC-HTTP\n",
      "59.95840665493522% is has at least 2 records\n",
      "------------------\n",
      "DDoS-HOIC\n",
      "100.0% is has at least 2 records\n",
      "------------------\n",
      "Brute Force-XSS\n",
      "0.0% is has at least 2 records\n",
      "------------------\n",
      "Brute Force-Web\n",
      "0.0% is has at least 2 records\n",
      "------------------\n",
      "SQL Injection\n",
      "0.0% is has at least 2 records\n",
      "------------------\n",
      "DDoS-LOIC-UDP\n",
      "66.08695652173913% is has at least 2 records\n",
      "------------------\n",
      "Benign\n",
      "15.262642012892814% is has at least 2 records\n",
      "------------------\n"
     ]
    }
   ],
   "source": [
    "for label in labels:\n",
    "    print(label)\n",
    "    df = df_all[df_all['Label']==label]    \n",
    "    grouped = df.groupby(['Flow ID','Day'], sort=False)\n",
    "    counts = grouped['Label'].agg('count').values \n",
    "    for i in range(1,2):\n",
    "        print('{}% is has at least {} records'.format(counts[counts>i].shape[0]/counts.shape[0]*100,i+1))\n",
    "    print('------------------')"
   ]
  },
  {
   "cell_type": "code",
   "execution_count": null,
   "metadata": {},
   "outputs": [],
   "source": []
  },
  {
   "cell_type": "code",
   "execution_count": 21,
   "metadata": {},
   "outputs": [],
   "source": [
    "counts = record_count_ls.values"
   ]
  },
  {
   "cell_type": "code",
   "execution_count": 22,
   "metadata": {},
   "outputs": [
    {
     "data": {
      "text/plain": [
       "(79141,)"
      ]
     },
     "execution_count": 22,
     "metadata": {},
     "output_type": "execute_result"
    }
   ],
   "source": [
    "counts.shape"
   ]
  },
  {
   "cell_type": "code",
   "execution_count": 25,
   "metadata": {},
   "outputs": [
    {
     "data": {
      "text/plain": [
       "49.15277795327327"
      ]
     },
     "execution_count": 25,
     "metadata": {},
     "output_type": "execute_result"
    }
   ],
   "source": []
  },
  {
   "cell_type": "code",
   "execution_count": null,
   "metadata": {},
   "outputs": [],
   "source": []
  },
  {
   "cell_type": "code",
   "execution_count": 13,
   "metadata": {},
   "outputs": [
    {
     "data": {
      "text/plain": [
       "(5898507,)"
      ]
     },
     "execution_count": 13,
     "metadata": {},
     "output_type": "execute_result"
    }
   ],
   "source": [
    "counts.shape"
   ]
  },
  {
   "cell_type": "code",
   "execution_count": 16,
   "metadata": {},
   "outputs": [
    {
     "data": {
      "text/plain": [
       "16.13372672101601"
      ]
     },
     "execution_count": 16,
     "metadata": {},
     "output_type": "execute_result"
    }
   ],
   "source": [
    "counts[counts>1].shape[0]/counts.shape[0]*100"
   ]
  },
  {
   "cell_type": "code",
   "execution_count": null,
   "metadata": {},
   "outputs": [],
   "source": []
  }
 ],
 "metadata": {
  "kernelspec": {
   "display_name": "Python 3",
   "language": "python",
   "name": "python3"
  },
  "language_info": {
   "codemirror_mode": {
    "name": "ipython",
    "version": 3
   },
   "file_extension": ".py",
   "mimetype": "text/x-python",
   "name": "python",
   "nbconvert_exporter": "python",
   "pygments_lexer": "ipython3",
   "version": "3.5.2"
  }
 },
 "nbformat": 4,
 "nbformat_minor": 4
}
