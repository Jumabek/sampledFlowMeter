{
 "cells": [
  {
   "cell_type": "code",
   "execution_count": 10,
   "metadata": {},
   "outputs": [],
   "source": [
    "import pandas as pd\n",
    "from glob import glob\n",
    "from os.path import join\n",
    "import os\n",
    "from collections import defaultdict\n",
    "import ntpath\n",
    "import numpy as np"
   ]
  },
  {
   "cell_type": "code",
   "execution_count": 11,
   "metadata": {},
   "outputs": [],
   "source": [
    "dataroot = '/data/juma/data/ids18/CSVs/WS_l'\n",
    "def write_flow_dist(flow_dist):\n",
    "    with open(join(dataroot,'flow_dist.csv'),'w') as f:\n",
    "        for key in sorted(flow_dist.keys()):\n",
    "            f.write('{},{}\\n'.format(key,flow_dist[key]))"
   ]
  },
  {
   "cell_type": "code",
   "execution_count": 12,
   "metadata": {},
   "outputs": [
    {
     "name": "stdout",
     "output_type": "stream",
     "text": [
      "Thursday-15-02-2018_TrafficForML_CICFlowMeter.csv\n",
      "Friday-23-02-2018_TrafficForML_CICFlowMeter.csv\n",
      "Thursday-22-02-2018_TrafficForML_CICFlowMeter.csv\n",
      "Friday-16-02-2018_TrafficForML_CICFlowMeter.csv\n",
      "Tuesday-20-02-2018_TrafficForML_CICFlowMeter.csv\n",
      "Wednesday-14-02-2018_TrafficForML_CICFlowMeter.csv\n",
      "Wednesday-21-02-2018_TrafficForML_CICFlowMeter.csv\n",
      "Thursday-01-03-2018_TrafficForML_CICFlowMeter.csv\n",
      "Wednesday-28-02-2018_TrafficForML_CICFlowMeter.csv\n"
     ]
    }
   ],
   "source": [
    "bytesInGb = 1024*1024*1024 \n",
    "flow_dist = defaultdict(lambda: 0)\n",
    "for i,fn in enumerate(glob(join(dataroot,'*Meter.csv'))):\n",
    "    print(i,ntpath.basename(fn))\n",
    "    df = pd.read_csv(fn,usecols=['Flow ID','Label'],dtype={'Flow ID':str,'Label':str})\n",
    "    #print(df.memory_usage(deep=True).sum()/bytesInGb)\n",
    "\n",
    "    # flow dist\n",
    "    flow_counts = df.groupby(['Label'],as_index=False).agg({'Flow ID':'nunique'})\n",
    "    for row in flow_counts.iterrows():\n",
    "        label = row[1]['Label']\n",
    "        count =row[1]['Flow ID']\n",
    "        flow_dist[label]+= count        "
   ]
  },
  {
   "cell_type": "code",
   "execution_count": 13,
   "metadata": {},
   "outputs": [],
   "source": [
    "write_flow_dist(flow_dist)\n"
   ]
  },
  {
   "cell_type": "code",
   "execution_count": 14,
   "metadata": {},
   "outputs": [
    {
     "name": "stdout",
     "output_type": "stream",
     "text": [
      "CPU times: user 0 ns, sys: 0 ns, total: 0 ns\n",
      "Wall time: 18.8 µs\n"
     ]
    },
    {
     "data": {
      "text/plain": [
       "16"
      ]
     },
     "execution_count": 14,
     "metadata": {},
     "output_type": "execute_result"
    }
   ],
   "source": [
    "%time 2**4"
   ]
  },
  {
   "cell_type": "code",
   "execution_count": null,
   "metadata": {},
   "outputs": [],
   "source": []
  }
 ],
 "metadata": {
  "kernelspec": {
   "display_name": "Python 3",
   "language": "python",
   "name": "python3"
  },
  "language_info": {
   "codemirror_mode": {
    "name": "ipython",
    "version": 3
   },
   "file_extension": ".py",
   "mimetype": "text/x-python",
   "name": "python",
   "nbconvert_exporter": "python",
   "pygments_lexer": "ipython3",
   "version": "3.5.2"
  }
 },
 "nbformat": 4,
 "nbformat_minor": 4
}
