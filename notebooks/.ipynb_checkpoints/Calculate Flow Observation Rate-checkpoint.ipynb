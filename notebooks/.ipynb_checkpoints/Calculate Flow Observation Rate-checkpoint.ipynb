{
 "cells": [
  {
   "cell_type": "code",
   "execution_count": 2,
   "metadata": {},
   "outputs": [],
   "source": [
    "import pandas as pd\n",
    "from glob import glob\n",
    "from os.path import join\n",
    "import os\n",
    "from collections import defaultdict\n",
    "import ntpath\n",
    "import numpy as np"
   ]
  },
  {
   "cell_type": "code",
   "execution_count": 3,
   "metadata": {},
   "outputs": [],
   "source": [
    "def write_flow_dist(flow_dist):\n",
    "    with open(join(dataroot,'flow_dist.csv'),'w') as f:\n",
    "        for key in sorted(flow_dist.keys()):\n",
    "            f.write('{},{}\\n'.format(key,flow_dist[key]))\n",
    "            \n",
    "\n",
    "def calc_n_write_flow_observation(flow_dist,dataroot):\n",
    "    #####################\n",
    "    root = '/data/juma/data/ids18'\n",
    "    gt_df = pd.read_csv(join(root,'CSVs/WS_l/flow_dist.csv'),encoding='utf-8',usecols=['Label','Count'],dtype={'Label':str,'Count':int})\n",
    "    benign_list = pd.read_csv(join(root,'benign_list.csv'),header=None)[0].values\n",
    "    short_attack_list = pd.read_csv(join(root,'short_attack_list.csv'),header=None)[0].values\n",
    "    long_attack_list = pd.read_csv(join(root,'long_attack_list.csv'),header=None)[0].values\n",
    "    ##########################\n",
    "\n",
    "    #unique_labels,label_counts = np.unique(flowlabels,return_counts=True)\n",
    "    observation_df = pd.DataFrame(columns=['Label','Count','Observation rate'])\n",
    "    macro_avg = 0\n",
    "    # benign\n",
    "    rates = 0\n",
    "    counts = 0\n",
    "    for label in benign_list:\n",
    "        if label in flow_dist.keys():\n",
    "            gt_count = gt_df[gt_df['Label']==label]['Count'].values[0]\n",
    "            count = flow_dist[label]\n",
    "            rate = round(100*count/gt_count,2)\n",
    "        else:\n",
    "            count = 0\n",
    "            rate = 0\n",
    "        observation_df = observation_df.append({'Label':label,'Count':count,'Observation rate':rate},ignore_index=True)\n",
    "\n",
    "    observation_rate_sum = 0\n",
    "    count_sum = 0\n",
    "    # short attacks\n",
    "    for label in short_attack_list:\n",
    "        if label in flow_dist.keys():\n",
    "            gt_count = gt_df[gt_df['Label']==label]['Count'].values[0]\n",
    "            count = flow_dist[label]\n",
    "            rate = round(100*count/gt_count,2)\n",
    "        else:\n",
    "            count = 0\n",
    "            rate = 0\n",
    "        observation_rate_sum+=rate\n",
    "        count_sum +=count\n",
    "        observation_df = observation_df.append({'Label':label,'Count':count,'Observation rate':rate},ignore_index=True)\n",
    "\n",
    "    # long attacks\n",
    "    for label in long_attack_list:\n",
    "        if label in flow_dist.keys():\n",
    "            gt_count = gt_df[gt_df['Label']==label]['Count'].values[0]\n",
    "            count = flow_dist[label]\n",
    "            rate = round(100*count/gt_count,2)\n",
    "        else:\n",
    "            count = 0\n",
    "            rate = 0\n",
    "        observation_df = observation_df.append({'Label':label,'Count':count,'Observation rate':rate},ignore_index=True)\n",
    "        observation_rate_sum+=rate\n",
    "        count_sum +=count\n",
    "\n",
    "    m_observation_rate = observation_rate_sum/(len(short_attack_list)+len(long_attack_list))\n",
    "    observation_df = observation_df.append({'Label':'Macro average Observation Rate','Count':count_sum,'Observation rate':m_observation_rate},ignore_index=True)\n",
    "    observation_df.to_csv(join(dataroot,'observation_rate.csv'),index=False,encoding='utf-8-sig')\n"
   ]
  },
  {
   "cell_type": "code",
   "execution_count": 4,
   "metadata": {},
   "outputs": [],
   "source": [
    "def process_datadir(dataroot):\n",
    "    print(dataroot)\n",
    "    flow_dist = defaultdict(lambda: 0)\n",
    "    for fn in glob(join(dataroot,'*Meter.csv')):\n",
    "        print(ntpath.basename(fn))\n",
    "        df = pd.read_csv(fn,usecols=['Flow ID','Label'],dtype={'Flow ID':str,'Label':str})\n",
    "        flow_counts = df.groupby(['Label'],as_index=False).agg({'Flow ID':'nunique'})\n",
    "        for row in flow_counts.iterrows():\n",
    "            label = row[1]['Label']\n",
    "            count =row[1]['Flow ID']\n",
    "            flow_dist[label]+= count\n",
    "    calc_n_write_flow_observation(flow_dist, dataroot)"
   ]
  },
  {
   "cell_type": "code",
   "execution_count": null,
   "metadata": {},
   "outputs": [
    {
     "name": "stdout",
     "output_type": "stream",
     "text": [
      "/data/juma/data/ids18/CSVs_r_1.0_m_0.05/SR_10/SGS_e_0.00285_l\n",
      "/data/juma/data/ids18/CSVs_r_1.0_m_0.05/SR_10/FFS_(8,16,4)_l\n",
      "/data/juma/data/ids18/CSVs_r_1.0_m_0.05/SR_10/SFS_SI_9.77_l\n",
      "Thursday-15-02-2018_TrafficForML_CICFlowMeter.csv\n",
      "Thursday-15-02-2018_TrafficForML_CICFlowMeter.csv\n",
      "Thursday-15-02-2018_TrafficForML_CICFlowMeter.csv\n",
      "Friday-23-02-2018_TrafficForML_CICFlowMeter.csv\n",
      "Friday-23-02-2018_TrafficForML_CICFlowMeter.csv\n",
      "Friday-23-02-2018_TrafficForML_CICFlowMeter.csv\n",
      "Thursday-22-02-2018_TrafficForML_CICFlowMeter.csv\n",
      "Thursday-22-02-2018_TrafficForML_CICFlowMeter.csv\n",
      "Thursday-22-02-2018_TrafficForML_CICFlowMeter.csv\n",
      "Friday-16-02-2018_TrafficForML_CICFlowMeter.csv\n",
      "Friday-16-02-2018_TrafficForML_CICFlowMeter.csv\n",
      "Friday-16-02-2018_TrafficForML_CICFlowMeter.csv\n",
      "Tuesday-20-02-2018_TrafficForML_CICFlowMeter.csv\n",
      "Tuesday-20-02-2018_TrafficForML_CICFlowMeter.csv\n",
      "Tuesday-20-02-2018_TrafficForML_CICFlowMeter.csv\n",
      "Wednesday-14-02-2018_TrafficForML_CICFlowMeter.csv\n",
      "Wednesday-14-02-2018_TrafficForML_CICFlowMeter.csv\n",
      "Wednesday-14-02-2018_TrafficForML_CICFlowMeter.csv\n"
     ]
    }
   ],
   "source": [
    "from multiprocessing import Process \n",
    "roots = [\n",
    "    '/data/juma/data/ids18/CSVs_r_1.0_m_0.05/SR_10/SFS_SI_9.77_l',\n",
    "    '/data/juma/data/ids18/CSVs_r_1.0_m_0.05/SR_10/FFS_(8,16,4)_l',\n",
    "    '/data/juma/data/ids18/CSVs_r_1.0_m_0.05/SR_10/SGS_e_0.00285_l',\n",
    "]\n",
    "procs = [ Process(target=process_datadir, args=[root]) for root in roots]\n",
    "for p in procs: p.start()\n",
    "for p in procs: p.join()"
   ]
  },
  {
   "cell_type": "code",
   "execution_count": null,
   "metadata": {},
   "outputs": [],
   "source": []
  },
  {
   "cell_type": "code",
   "execution_count": null,
   "metadata": {},
   "outputs": [],
   "source": []
  },
  {
   "cell_type": "code",
   "execution_count": null,
   "metadata": {},
   "outputs": [],
   "source": []
  },
  {
   "cell_type": "code",
   "execution_count": 64,
   "metadata": {},
   "outputs": [
    {
     "name": "stdout",
     "output_type": "stream",
     "text": [
      "/data/juma/data/ids18/CSVs_r_1.0/SR_10/RPS_SI_10_allnorm_l\n",
      "Thursday-15-02-2018_TrafficForML_CICFlowMeter.csv\n",
      "Friday-23-02-2018_TrafficForML_CICFlowMeter.csv\n",
      "Thursday-22-02-2018_TrafficForML_CICFlowMeter.csv\n",
      "Friday-16-02-2018_TrafficForML_CICFlowMeter.csv\n",
      "Tuesday-20-02-2018_TrafficForML_CICFlowMeter.csv\n",
      "Wednesday-14-02-2018_TrafficForML_CICFlowMeter.csv\n",
      "Wednesday-21-02-2018_TrafficForML_CICFlowMeter.csv\n",
      "Thursday-01-03-2018_TrafficForML_CICFlowMeter.csv\n",
      "Wednesday-28-02-2018_TrafficForML_CICFlowMeter.csv\n"
     ]
    }
   ],
   "source": [
    "process_datadir('/data/juma/data/ids18/CSVs_r_1.0/SR_10/RPS_SI_10_allnorm_l')"
   ]
  },
  {
   "cell_type": "code",
   "execution_count": null,
   "metadata": {},
   "outputs": [],
   "source": []
  },
  {
   "cell_type": "code",
   "execution_count": null,
   "metadata": {},
   "outputs": [],
   "source": []
  },
  {
   "cell_type": "code",
   "execution_count": null,
   "metadata": {},
   "outputs": [],
   "source": []
  },
  {
   "cell_type": "code",
   "execution_count": null,
   "metadata": {},
   "outputs": [],
   "source": []
  },
  {
   "cell_type": "code",
   "execution_count": null,
   "metadata": {},
   "outputs": [],
   "source": []
  }
 ],
 "metadata": {
  "kernelspec": {
   "display_name": "Python 3",
   "language": "python",
   "name": "python3"
  },
  "language_info": {
   "codemirror_mode": {
    "name": "ipython",
    "version": 3
   },
   "file_extension": ".py",
   "mimetype": "text/x-python",
   "name": "python",
   "nbconvert_exporter": "python",
   "pygments_lexer": "ipython3",
   "version": "3.5.2"
  }
 },
 "nbformat": 4,
 "nbformat_minor": 4
}
