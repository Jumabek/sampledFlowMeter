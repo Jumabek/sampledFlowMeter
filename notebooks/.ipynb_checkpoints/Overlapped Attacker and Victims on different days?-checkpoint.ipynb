{
 "cells": [
  {
   "cell_type": "markdown",
   "metadata": {},
   "source": [
    "## Attacks executed only in one day"
   ]
  },
  {
   "cell_type": "markdown",
   "metadata": {},
   "source": [
    "1. FTP-BruteForce\n",
    "2. SSH-BruteForce\n",
    "3. DoS-GoldenEye\n",
    "4. DoS-Slowloris\n",
    "5. DoS-SlowHTTPTest\n",
    "6. DoS-Hulk\n",
    "7. DDoS-LOIC-HTTP\n",
    "8. DDOS-HOIC"
   ]
  },
  {
   "cell_type": "markdown",
   "metadata": {},
   "source": [
    "## Attacks w/ different Victim"
   ]
  },
  {
   "cell_type": "markdown",
   "metadata": {},
   "source": [
    "9. DDoS-LOIC-UDP\n"
   ]
  },
  {
   "cell_type": "markdown",
   "metadata": {},
   "source": [
    "## Attacks that share same Attacker and Victim in different days"
   ]
  },
  {
   "cell_type": "markdown",
   "metadata": {},
   "source": [
    "10. Brute Force-Web\n",
    "11. Brute Force-XSS\n",
    "12. SQL Injection"
   ]
  },
  {
   "cell_type": "markdown",
   "metadata": {},
   "source": [
    "## Attacks that DO NOT share same Attacker and Victim in different days\n"
   ]
  },
  {
   "cell_type": "markdown",
   "metadata": {},
   "source": [
    "13. Infiltration"
   ]
  },
  {
   "cell_type": "code",
   "execution_count": null,
   "metadata": {},
   "outputs": [],
   "source": []
  }
 ],
 "metadata": {
  "kernelspec": {
   "display_name": "Python 3",
   "language": "python",
   "name": "python3"
  },
  "language_info": {
   "codemirror_mode": {
    "name": "ipython",
    "version": 3
   },
   "file_extension": ".py",
   "mimetype": "text/x-python",
   "name": "python",
   "nbconvert_exporter": "python",
   "pygments_lexer": "ipython3",
   "version": "3.5.2"
  }
 },
 "nbformat": 4,
 "nbformat_minor": 2
}
