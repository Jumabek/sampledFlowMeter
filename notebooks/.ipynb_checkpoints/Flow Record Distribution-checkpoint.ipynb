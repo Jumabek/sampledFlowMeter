{
 "cells": [
  {
   "cell_type": "code",
   "execution_count": 1,
   "metadata": {},
   "outputs": [],
   "source": [
    "import pandas as pd\n",
    "from os.path import join\n",
    "from glob import glob\n",
    "from collections import defaultdict\n",
    "from tqdm import tqdm\n",
    "import ntpath\n",
    "from multiprocessing import Process"
   ]
  },
  {
   "cell_type": "code",
   "execution_count": 2,
   "metadata": {},
   "outputs": [],
   "source": [
    "#dataroot  = '/data/juma/data/ids18/CSVs/'\n",
    "dataroot = '/data/juma/data/ids18/CSVs_r_1.0_m_0.6/SR_10/'\n",
    "\n",
    "sampling_dirs = [d for d in glob(join(dataroot,'*_l'))]\n",
    "    \n",
    "def calculate_label_dist(sampling_dir):\n",
    "    print(ntpath.basename(sampling_dir))\n",
    "    label_dist = defaultdict(lambda: 0)\n",
    "    for fn in tqdm(glob(join(sampling_dir,'*Meter.csv'))):\n",
    "        df = pd.read_csv(fn,usecols=['Label'], dtype={'Label':str})\n",
    "        dist_i = df['Label'].value_counts()\n",
    "        for key in dist_i.keys():\n",
    "            label_dist[key]+=dist_i[key]\n",
    "\n",
    "    with open(join(sampling_dir,'label_dist.csv'),'w') as f:\n",
    "        for key in sorted(label_dist.keys()):\n",
    "            f.write('{},{}\\n'.format(key,label_dist[key])) \n"
   ]
  },
  {
   "cell_type": "code",
   "execution_count": 3,
   "metadata": {},
   "outputs": [
    {
     "name": "stdout",
     "output_type": "stream",
     "text": [
      "['/data/juma/data/ids18/CSVs_r_1.0_m_0.6/SR_10/SFS_SI_9.77_l', '/data/juma/data/ids18/CSVs_r_1.0_m_0.6/SR_10/FFS_(8,16,4)_l', '/data/juma/data/ids18/CSVs_r_1.0_m_0.6/SR_10/SGS_e_0.0305_l']\n"
     ]
    }
   ],
   "source": [
    "print(sampling_dirs)\n"
   ]
  },
  {
   "cell_type": "code",
   "execution_count": 4,
   "metadata": {},
   "outputs": [
    {
     "name": "stdout",
     "output_type": "stream",
     "text": [
      "SFS_SI_9.77_l\n",
      "FFS_(8,16,4)_l\n",
      "SGS_e_0.0305_l\n"
     ]
    },
    {
     "name": "stderr",
     "output_type": "stream",
     "text": [
      "100%|██████████| 9/9 [02:39<00:00, 17.69s/it]\n",
      "100%|██████████| 9/9 [02:40<00:00, 17.82s/it]\n",
      "100%|██████████| 9/9 [03:18<00:00, 22.04s/it]\n"
     ]
    }
   ],
   "source": [
    "procs = [ Process(target=calculate_label_dist, args=[sdir]) for sdir in sampling_dirs]\n",
    "for p in procs: p.start()\n",
    "for p in procs: p.join()\n"
   ]
  },
  {
   "cell_type": "code",
   "execution_count": null,
   "metadata": {},
   "outputs": [],
   "source": []
  }
 ],
 "metadata": {
  "kernelspec": {
   "display_name": "Python 3",
   "language": "python",
   "name": "python3"
  },
  "language_info": {
   "codemirror_mode": {
    "name": "ipython",
    "version": 3
   },
   "file_extension": ".py",
   "mimetype": "text/x-python",
   "name": "python",
   "nbconvert_exporter": "python",
   "pygments_lexer": "ipython3",
   "version": "3.5.2"
  }
 },
 "nbformat": 4,
 "nbformat_minor": 4
}
