{
 "cells": [
  {
   "cell_type": "code",
   "execution_count": 323,
   "metadata": {},
   "outputs": [],
   "source": [
    "import numpy as np\n",
    "from collections import defaultdict\n",
    "import os\n",
    "from os.path import join \n",
    "import time\n",
    "import pandas as pd\n",
    "import glob\n",
    "import ntpath\n",
    "\n",
    "import matplotlib.pyplot as plt\n",
    "%matplotlib inline\n",
    "from matplotlib import rcParams"
   ]
  },
  {
   "cell_type": "code",
   "execution_count": 324,
   "metadata": {},
   "outputs": [],
   "source": [
    "def read_data(dataroot,file_ending='*Meter.csv'):\n",
    "    fields = ['Flow ID','Tot Fwd Pkts','Tot Bwd Pkts','Label']\n",
    "    \n",
    "    print(join(dataroot,file_ending))\n",
    "    filenames = [i for i in glob.glob(join(dataroot,file_ending))]\n",
    "    \n",
    "    df_list = []\n",
    "    for filename in filenames:\n",
    "        df = pd.read_csv(filename,dtype=object,usecols=fields)        \n",
    "        df_list.append(df)\n",
    "    combined_csv = pd.concat(df_list,sort=False)\n",
    "    combined_csv['flow_length']=(combined_csv['Tot Fwd Pkts'].astype(float)+combined_csv['Tot Bwd Pkts'].astype(float))\n",
    "    combined_csv.drop(columns=['Tot Fwd Pkts','Tot Bwd Pkts'])\n",
    "    return combined_csv"
   ]
  },
  {
   "cell_type": "code",
   "execution_count": 142,
   "metadata": {},
   "outputs": [
    {
     "name": "stdout",
     "output_type": "stream",
     "text": [
      "/data/juma/data/ids18/CSVs/WS_l/*Meter.csv\n"
     ]
    }
   ],
   "source": [
    "gt_dataroot = '/data/juma/data/ids18/CSVs/WS_l'\n",
    "gt_data = read_data(gt_dataroot)"
   ]
  },
  {
   "cell_type": "code",
   "execution_count": 352,
   "metadata": {},
   "outputs": [
    {
     "name": "stdout",
     "output_type": "stream",
     "text": [
      "/data/juma/data/ids18/CSVs_r_1.0/SR_10/FFS_(8,16,4)_l/*Meter.csv\n"
     ]
    }
   ],
   "source": [
    "dataroot = '/data/juma/data/ids18/CSVs_r_1.0/SR_10/FFS_(8,16,4)_l'\n",
    "data= read_data(dataroot)\n"
   ]
  },
  {
   "cell_type": "code",
   "execution_count": 353,
   "metadata": {},
   "outputs": [
    {
     "name": "stdout",
     "output_type": "stream",
     "text": [
      "RPS (#flowRecords vs #flows) (1496584 vs. 425913)\n",
      "GT #flowRecords vs #flows {} vs. {} 8296436 776303\n"
     ]
    }
   ],
   "source": [
    "gdata = data.groupby(['Flow ID','Label'],as_index=False).sum()\n",
    "print(\"RPS (#flowRecords vs #flows) ({} vs. {})\".format(data.shape[0],gdata.shape[0]))\n",
    "\n",
    "gt_gdata = gt_data.groupby(['Flow ID','Label'],as_index=False).sum()\n",
    "print(\"GT #flowRecords vs #flows {} vs. {}\",gt_data.shape[0],gt_gdata.shape[0])\n"
   ]
  },
  {
   "cell_type": "code",
   "execution_count": 354,
   "metadata": {},
   "outputs": [
    {
     "name": "stdout",
     "output_type": "stream",
     "text": [
      "GT flows              :  776303\n",
      "Flow Observation Rate : 54.86\n",
      "\n",
      "Absolute error:     350390\n",
      "Relative error:     0.82\n"
     ]
    }
   ],
   "source": [
    "print('GT flows              : {:7}'.format(gt_gdata.shape[0]))\n",
    "print('Flow Observation Rate : {:.2f}'.format(gdata.shape[0]/gt_gdata.shape[0]*100))\n",
    "print()\n",
    "print(\"Absolute error: {:10}\".format(gt_gdata.shape[0]-gdata.shape[0]))\n",
    "print(\"Relative error: {:8.2f}\".format((gt_gdata.shape[0]-gdata.shape[0])/gdata.shape[0]))"
   ]
  },
  {
   "cell_type": "code",
   "execution_count": 355,
   "metadata": {},
   "outputs": [],
   "source": [
    "gdata = gdata.rename(columns={'flow_length':'flow_length_est'})"
   ]
  },
  {
   "cell_type": "code",
   "execution_count": 356,
   "metadata": {},
   "outputs": [],
   "source": [
    "gt_gdata = gt_gdata.set_index(['Flow ID','Label'])\n",
    "gdata = gdata.set_index(['Flow ID','Label'])\n"
   ]
  },
  {
   "cell_type": "code",
   "execution_count": 357,
   "metadata": {},
   "outputs": [],
   "source": [
    "res = gt_gdata.join(gdata)"
   ]
  },
  {
   "cell_type": "code",
   "execution_count": 358,
   "metadata": {},
   "outputs": [
    {
     "data": {
      "text/plain": [
       "Index(['flow_length', 'flow_length_est'], dtype='object')"
      ]
     },
     "execution_count": 358,
     "metadata": {},
     "output_type": "execute_result"
    }
   ],
   "source": [
    "res = res.fillna(0)\n",
    "res.columns"
   ]
  },
  {
   "cell_type": "code",
   "execution_count": 359,
   "metadata": {},
   "outputs": [
    {
     "data": {
      "text/html": [
       "<div>\n",
       "<style scoped>\n",
       "    .dataframe tbody tr th:only-of-type {\n",
       "        vertical-align: middle;\n",
       "    }\n",
       "\n",
       "    .dataframe tbody tr th {\n",
       "        vertical-align: top;\n",
       "    }\n",
       "\n",
       "    .dataframe thead th {\n",
       "        text-align: right;\n",
       "    }\n",
       "</style>\n",
       "<table border=\"1\" class=\"dataframe\">\n",
       "  <thead>\n",
       "    <tr style=\"text-align: right;\">\n",
       "      <th></th>\n",
       "      <th></th>\n",
       "      <th>flow_length</th>\n",
       "      <th>flow_length_est</th>\n",
       "    </tr>\n",
       "    <tr>\n",
       "      <th>Flow ID</th>\n",
       "      <th>Label</th>\n",
       "      <th></th>\n",
       "      <th></th>\n",
       "    </tr>\n",
       "  </thead>\n",
       "  <tbody>\n",
       "    <tr>\n",
       "      <th>172.31.69.13-172.31.69.8-34661-25734-6</th>\n",
       "      <th>Benign</th>\n",
       "      <td>1.0</td>\n",
       "      <td>0.0</td>\n",
       "    </tr>\n",
       "    <tr>\n",
       "      <th>172.31.69.24-172.31.69.11-33867-2002-6</th>\n",
       "      <th>Benign</th>\n",
       "      <td>1.0</td>\n",
       "      <td>0.0</td>\n",
       "    </tr>\n",
       "    <tr>\n",
       "      <th>172.31.69.24-172.31.69.11-33867-2001-6</th>\n",
       "      <th>Benign</th>\n",
       "      <td>1.0</td>\n",
       "      <td>0.0</td>\n",
       "    </tr>\n",
       "    <tr>\n",
       "      <th>172.31.69.24-172.31.69.11-33867-20005-6</th>\n",
       "      <th>Benign</th>\n",
       "      <td>1.0</td>\n",
       "      <td>0.0</td>\n",
       "    </tr>\n",
       "    <tr>\n",
       "      <th>172.31.69.24-172.31.69.11-33867-20000-6</th>\n",
       "      <th>Benign</th>\n",
       "      <td>1.0</td>\n",
       "      <td>1.0</td>\n",
       "    </tr>\n",
       "  </tbody>\n",
       "</table>\n",
       "</div>"
      ],
      "text/plain": [
       "                                                flow_length  flow_length_est\n",
       "Flow ID                                 Label                               \n",
       "172.31.69.13-172.31.69.8-34661-25734-6  Benign          1.0              0.0\n",
       "172.31.69.24-172.31.69.11-33867-2002-6  Benign          1.0              0.0\n",
       "172.31.69.24-172.31.69.11-33867-2001-6  Benign          1.0              0.0\n",
       "172.31.69.24-172.31.69.11-33867-20005-6 Benign          1.0              0.0\n",
       "172.31.69.24-172.31.69.11-33867-20000-6 Benign          1.0              1.0"
      ]
     },
     "execution_count": 359,
     "metadata": {},
     "output_type": "execute_result"
    }
   ],
   "source": [
    "res = res.sort_values(['flow_length'])\n",
    "res.head()"
   ]
  },
  {
   "cell_type": "code",
   "execution_count": 360,
   "metadata": {},
   "outputs": [
    {
     "name": "stdout",
     "output_type": "stream",
     "text": [
      "plot for  FFS_(8,16,4)_l\n"
     ]
    },
    {
     "name": "stderr",
     "output_type": "stream",
     "text": [
      "/data/juma/.local/lib/python3.5/site-packages/matplotlib/pyplot.py:1442: UserWarning: Attempted to set non-positive left xlim on a log-scaled axis.\n",
      "Invalid limit will be ignored.\n",
      "  ret = ax.set_xlim(*args, **kwargs)\n"
     ]
    },
    {
     "data": {
      "image/png": "[encoded data removed]",
      "text/plain": [
       "<Figure size 576x576 with 1 Axes>"
      ]
     },
     "metadata": {
      "needs_background": "light"
     },
     "output_type": "display_data"
    }
   ],
   "source": [
    "#drawing\n",
    "print('plot for ',ntpath.basename(dataroot))\n",
    "font = {'size'   : 25}\n",
    "plt.rc('font', **font)\n",
    "plt.rcParams[\"axes.linewidth\"]  = 2.5\n",
    "fig, ax = plt.subplots(nrows=1,ncols=1,sharex=False,figsize=(8,8))\n",
    "plt.grid()\n",
    "plt.scatter(res['flow_length'].values,res['flow_length_est'],alpha=0.75, s=4, label='Est',marker='>',color='g',facecolors='none')\n",
    "#plt.scatter(res['flow_length'].values,res['flow_length'].values//10,alpha=0.25,color='black',\n",
    "#            label='ideal',facecolors='none',marker='d')\n",
    "plt.plot(res['flow_length'].values,res['flow_length'].values//10,alpha=0.5,color='black',\n",
    "            label='ideal',linewidth=2,marker='o',markeredgewidth=1,markersize=4)\n",
    "plt.yscale('symlog',linthreshy=1)\n",
    "plt.xscale('log')\n",
    "plt.ylabel('Sampled packets ([0-1] in linear scale)')\n",
    "plt.legend()\n",
    "plt.ylim([-10**0,10**6])\n",
    "plt.xlim([-10**0,10**7])\n",
    "plt.xlabel('Flow size')\n",
    "fig.tight_layout()\n",
    "plt.savefig(join(dataroot,'sampled_packet_per_flow.png'))"
   ]
  },
  {
   "cell_type": "code",
   "execution_count": 361,
   "metadata": {},
   "outputs": [],
   "source": [
    "plt.show()"
   ]
  },
  {
   "cell_type": "code",
   "execution_count": null,
   "metadata": {},
   "outputs": [],
   "source": []
  }
 ],
 "metadata": {
  "kernelspec": {
   "display_name": "Python 3",
   "language": "python",
   "name": "python3"
  },
  "language_info": {
   "codemirror_mode": {
    "name": "ipython",
    "version": 3
   },
   "file_extension": ".py",
   "mimetype": "text/x-python",
   "name": "python",
   "nbconvert_exporter": "python",
   "pygments_lexer": "ipython3",
   "version": "3.5.2"
  }
 },
 "nbformat": 4,
 "nbformat_minor": 2
}
