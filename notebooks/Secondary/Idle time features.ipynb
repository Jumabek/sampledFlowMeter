{
 "cells": [
  {
   "cell_type": "code",
   "execution_count": 2,
   "metadata": {},
   "outputs": [],
   "source": [
    "import pandas as pd\n",
    "from os.path import join\n",
    "from glob import glob\n",
    "from collections import defaultdict\n",
    "from matplotlib import pyplot as plt\n",
    "from matplotlib.pyplot import figure\n",
    "import numpy as np\n",
    "from datetime import datetime\n",
    "from datetime import timedelta\n",
    "from tqdm import tqdm\n",
    "\n",
    "dataroot  = '/data/juma/data/ids18/CSVs/WS_l'"
   ]
  },
  {
   "cell_type": "code",
   "execution_count": 5,
   "metadata": {},
   "outputs": [
    {
     "name": "stderr",
     "output_type": "stream",
     "text": [
      "100%|██████████| 9/9 [00:00<00:00, 35.40it/s]\n"
     ]
    }
   ],
   "source": [
    "ds_list = []\n",
    "columns = ['Flow IAT Mean' ]\n",
    "for fn in tqdm(glob(join(dataroot,'*Meter.csv'))):\n",
    "    df = pd.read_csv(fn, nrows=1000)\n",
    "    ds_list.append(df)\n",
    "df_all = pd.concat(ds_list)"
   ]
  },
  {
   "cell_type": "code",
   "execution_count": 8,
   "metadata": {},
   "outputs": [
    {
     "data": {
      "text/plain": [
       "(9000, 86)"
      ]
     },
     "execution_count": 8,
     "metadata": {},
     "output_type": "execute_result"
    }
   ],
   "source": [
    "df_all.shape"
   ]
  },
  {
   "cell_type": "code",
   "execution_count": 9,
   "metadata": {},
   "outputs": [
    {
     "data": {
      "text/plain": [
       "Index(['Hash', 'Flow ID', 'Src IP', 'Src Port', 'Dst IP', 'Dst Port',\n",
       "       'Protocol', 'Timestamp', 'TimestampMCS', 'Flow Duration',\n",
       "       'Tot Fwd Pkts', 'Tot Bwd Pkts', 'TotLen Fwd Pkts', 'TotLen Bwd Pkts',\n",
       "       'Fwd Pkt Len Max', 'Fwd Pkt Len Min', 'Fwd Pkt Len Mean',\n",
       "       'Fwd Pkt Len Std', 'Bwd Pkt Len Max', 'Bwd Pkt Len Min',\n",
       "       'Bwd Pkt Len Mean', 'Bwd Pkt Len Std', 'Flow Byts/s', 'Flow Pkts/s',\n",
       "       'Flow IAT Mean', 'Flow IAT Std', 'Flow IAT Max', 'Flow IAT Min',\n",
       "       'Fwd IAT Tot', 'Fwd IAT Mean', 'Fwd IAT Std', 'Fwd IAT Max',\n",
       "       'Fwd IAT Min', 'Bwd IAT Tot', 'Bwd IAT Mean', 'Bwd IAT Std',\n",
       "       'Bwd IAT Max', 'Bwd IAT Min', 'Fwd PSH Flags', 'Bwd PSH Flags',\n",
       "       'Fwd URG Flags', 'Bwd URG Flags', 'Fwd Header Len', 'Bwd Header Len',\n",
       "       'Fwd Pkts/s', 'Bwd Pkts/s', 'Pkt Len Min', 'Pkt Len Max',\n",
       "       'Pkt Len Mean', 'Pkt Len Std', 'Pkt Len Var', 'FIN Flag Cnt',\n",
       "       'SYN Flag Cnt', 'RST Flag Cnt', 'PSH Flag Cnt', 'ACK Flag Cnt',\n",
       "       'URG Flag Cnt', 'CWE Flag Count', 'ECE Flag Cnt', 'Down/Up Ratio',\n",
       "       'Pkt Size Avg', 'Fwd Seg Size Avg', 'Bwd Seg Size Avg',\n",
       "       'Fwd Byts/b Avg', 'Fwd Pkts/b Avg', 'Fwd Blk Rate Avg',\n",
       "       'Bwd Byts/b Avg', 'Bwd Pkts/b Avg', 'Bwd Blk Rate Avg',\n",
       "       'Subflow Fwd Pkts', 'Subflow Fwd Byts', 'Subflow Bwd Pkts',\n",
       "       'Subflow Bwd Byts', 'Init Fwd Win Byts', 'Init Bwd Win Byts',\n",
       "       'Fwd Act Data Pkts', 'Fwd Seg Size Min', 'Active Mean', 'Active Std',\n",
       "       'Active Max', 'Active Min', 'Idle Mean', 'Idle Std', 'Idle Max',\n",
       "       'Idle Min', 'Label'],\n",
       "      dtype='object')"
      ]
     },
     "execution_count": 9,
     "metadata": {},
     "output_type": "execute_result"
    }
   ],
   "source": [
    "df_all.columns"
   ]
  },
  {
   "cell_type": "code",
   "execution_count": 15,
   "metadata": {},
   "outputs": [
    {
     "data": {
      "text/plain": [
       "Hash                 3.975293e+15\n",
       "Src Port             6.546700e+04\n",
       "Dst Port             5.605200e+04\n",
       "Protocol             1.100000e+01\n",
       "TimestampMCS         1.125255e+12\n",
       "Flow Duration        1.091654e+08\n",
       "Tot Fwd Pkts         1.750000e+02\n",
       "Tot Bwd Pkts         3.420000e+02\n",
       "TotLen Fwd Pkts      1.134100e+04\n",
       "TotLen Bwd Pkts      4.728400e+05\n",
       "Fwd Pkt Len Max      1.440000e+03\n",
       "Fwd Pkt Len Min      3.630000e+02\n",
       "Fwd Pkt Len Mean     4.205000e+02\n",
       "Fwd Pkt Len Std      5.738000e+02\n",
       "Bwd Pkt Len Max      1.460000e+03\n",
       "Bwd Pkt Len Min      1.093000e+03\n",
       "Bwd Pkt Len Mean     1.385010e+03\n",
       "Bwd Pkt Len Std      7.534300e+02\n",
       "Flow Byts/s          2.470000e+08\n",
       "Flow Pkts/s          3.000001e+06\n",
       "Flow IAT Mean        8.847219e+07\n",
       "Flow IAT Std         5.309406e+07\n",
       "Flow IAT Max         8.847219e+07\n",
       "Flow IAT Min         8.848066e+07\n",
       "Fwd IAT Tot          7.512616e+07\n",
       "Fwd IAT Mean         7.512616e+07\n",
       "Fwd IAT Std          3.460190e+07\n",
       "Fwd IAT Max          7.512616e+07\n",
       "Fwd IAT Min          7.512616e+07\n",
       "Bwd IAT Tot          1.091654e+08\n",
       "                         ...     \n",
       "ACK Flag Cnt         5.170000e+02\n",
       "URG Flag Cnt         0.000000e+00\n",
       "CWE Flag Count       4.000000e+00\n",
       "ECE Flag Cnt         4.000000e+00\n",
       "Down/Up Ratio        9.000000e+00\n",
       "Pkt Size Avg         1.277220e+03\n",
       "Fwd Seg Size Avg     4.205000e+02\n",
       "Bwd Seg Size Avg     1.385010e+03\n",
       "Fwd Byts/b Avg       0.000000e+00\n",
       "Fwd Pkts/b Avg       0.000000e+00\n",
       "Fwd Blk Rate Avg     0.000000e+00\n",
       "Bwd Byts/b Avg       0.000000e+00\n",
       "Bwd Pkts/b Avg       3.470000e+02\n",
       "Bwd Blk Rate Avg     8.463768e+07\n",
       "Subflow Fwd Pkts     0.000000e+00\n",
       "Subflow Fwd Byts     1.810000e+02\n",
       "Subflow Bwd Pkts     1.000000e+00\n",
       "Subflow Bwd Byts     1.115000e+03\n",
       "Init Fwd Win Byts    0.000000e+00\n",
       "Init Bwd Win Byts    6.553600e+04\n",
       "Fwd Act Data Pkts    6.700000e+01\n",
       "Fwd Seg Size Min     0.000000e+00\n",
       "Active Mean          0.000000e+00\n",
       "Active Std           0.000000e+00\n",
       "Active Max           0.000000e+00\n",
       "Active Min           0.000000e+00\n",
       "Idle Mean            1.519737e+15\n",
       "Idle Std             1.074309e+15\n",
       "Idle Max             1.519737e+15\n",
       "Idle Min             1.519737e+15\n",
       "Length: 81, dtype: float64"
      ]
     },
     "execution_count": 15,
     "metadata": {},
     "output_type": "execute_result"
    }
   ],
   "source": [
    "\n",
    "df_all.max(numeric_only=True)-df_all.min(numeric_only=True)"
   ]
  },
  {
   "cell_type": "code",
   "execution_count": null,
   "metadata": {},
   "outputs": [],
   "source": []
  },
  {
   "cell_type": "code",
   "execution_count": null,
   "metadata": {},
   "outputs": [],
   "source": []
  }
 ],
 "metadata": {
  "kernelspec": {
   "display_name": "Python 3",
   "language": "python",
   "name": "python3"
  },
  "language_info": {
   "codemirror_mode": {
    "name": "ipython",
    "version": 3
   },
   "file_extension": ".py",
   "mimetype": "text/x-python",
   "name": "python",
   "nbconvert_exporter": "python",
   "pygments_lexer": "ipython3",
   "version": "3.5.2"
  }
 },
 "nbformat": 4,
 "nbformat_minor": 4
}
