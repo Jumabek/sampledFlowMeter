{
 "cells": [
  {
   "cell_type": "code",
   "execution_count": 2,
   "metadata": {},
   "outputs": [],
   "source": [
    "import pandas as pd\n",
    "from  os.path import join\n",
    "from glob import glob"
   ]
  },
  {
   "cell_type": "code",
   "execution_count": 3,
   "metadata": {},
   "outputs": [],
   "source": [
    "def get_dtype():\n",
    "    return {'Flow ID':str ,'Timestamp':str, 'Dst Port':int , 'Protocol':int,\n",
    "       'Flow Duration':int , 'Tot Fwd Pkts':int , 'Tot Bwd Pkts': int,\n",
    "       'TotLen Fwd Pkts':int , 'TotLen Bwd Pkts':int , 'Fwd Pkt Len Max':int,\n",
    "       'Fwd Pkt Len Min':int , 'Fwd Pkt Len Mean':float , 'Fwd Pkt Len Std':float,\n",
    "       'Bwd Pkt Len Max':int , 'Bwd Pkt Len Min':int , 'Bwd Pkt Len Mean':float,\n",
    "       'Bwd Pkt Len Std':float , 'Flow Byts/s':float , 'Flow Pkts/s':float, 'Flow IAT Mean':float,\n",
    "       'Flow IAT Std':float , 'Flow IAT Max':int , 'Flow IAT Min':int , 'Fwd IAT Tot':int,\n",
    "       'Fwd IAT Mean':float , 'Fwd IAT Std':float , 'Fwd IAT Max':int , 'Fwd IAT Min':int,\n",
    "       'Bwd IAT Tot':int , 'Bwd IAT Mean':float , 'Bwd IAT Std':float , 'Bwd IAT Max':int,\n",
    "       'Bwd IAT Min':int , 'Fwd PSH Flags':int , 'Bwd PSH Flags':int , 'Fwd URG Flags':int,\n",
    "       'Bwd URG Flags':int , 'Fwd Header Len':int , 'Bwd Header Len':int , 'Fwd Pkts/s':float,\n",
    "       'Bwd Pkts/s':float , 'Pkt Len Min':int , 'Pkt Len Max':int , 'Pkt Len Mean':float,\n",
    "       'Pkt Len Std':float , 'Pkt Len Var':float , 'FIN Flag Cnt':int , 'SYN Flag Cnt':int,\n",
    "       'RST Flag Cnt':int , 'PSH Flag Cnt':int , 'ACK Flag Cnt':int , 'URG Flag Cnt':int,\n",
    "       'CWE Flag Count':int , 'ECE Flag Cnt':int , 'Down/Up Ratio':float , 'Pkt Size Avg':float,\n",
    "       'Fwd Seg Size Avg':float , 'Bwd Seg Size Avg':float , 'Fwd Byts/b Avg':float,\n",
    "       'Fwd Pkts/b Avg':float , 'Fwd Blk Rate Avg':float , 'Bwd Byts/b Avg':float,\n",
    "       'Bwd Pkts/b Avg':float , 'Bwd Blk Rate Avg':float , 'Subflow Fwd Pkts':float,\n",
    "       'Subflow Fwd Byts':float , 'Subflow Bwd Pkts':float , 'Subflow Bwd Byts':float,\n",
    "       'Init Fwd Win Byts':int , 'Init Bwd Win Byts':int , 'Fwd Act Data Pkts':int,\n",
    "       'Fwd Seg Size Min':int , 'Active Mean':float, 'Active Std':float, 'Active Max':float,\n",
    "       'Active Min':float, 'Idle Mean':float, 'Idle Std':float , 'Idle Max':float , 'Idle Min':float , 'Label':str}\n"
   ]
  },
  {
   "cell_type": "code",
   "execution_count": 4,
   "metadata": {},
   "outputs": [],
   "source": [
    "bytesInGb = 1024*1024*1024 \n",
    "def read_data(dataroot,file_ending='*Meter.csv'):\n",
    "    fields = ['Flow ID','Tot Fwd Pkts','Tot Bwd Pkts','Label']\n",
    "    \n",
    "    print(join(dataroot,file_ending))\n",
    "    filenames = [i for i in glob(join(dataroot,file_ending))]\n",
    "    \n",
    "    df_list = []\n",
    "    for filename in filenames:\n",
    "        num_lines = 10**8\n",
    "        n = 100000\n",
    "        skip_idx = [x for x in range(1, num_lines) if x % n != 0]\n",
    "\n",
    "        df = pd.read_csv(filename,dtype=get_dtype(),  skiprows=skip_idx)        \n",
    "        #df_list.append(df)\n",
    "        print(df.shape,filename)\n",
    "        print(df.memory_usage(deep=True).sum()/bytesInGb*n)\n",
    "        print('-----------')\n",
    "    combined_csv = pd.concat(df_list,sort=False)\n",
    "    combined_csv['flow_length']=(combined_csv['Tot Fwd Pkts'].astype(float)+combined_csv['Tot Bwd Pkts'].astype(float))\n",
    "    combined_csv.drop(columns=['Tot Fwd Pkts','Tot Bwd Pkts'])\n",
    "    return combined_csv"
   ]
  },
  {
   "cell_type": "code",
   "execution_count": null,
   "metadata": {},
   "outputs": [
    {
     "name": "stdout",
     "output_type": "stream",
     "text": [
      "/data/juma/data/ids18/CSVs/WS_l/*_0.csv\n"
     ]
    }
   ],
   "source": [
    "dataroot = '/data/juma/data/ids18/CSVs/WS_l'\n",
    "#dataroot = '/data/juma/data/ids18/CSVs_r_1.0/SR_10/SGS_e_0.0000000107_l/'\n",
    "data= read_data(dataroot)\n"
   ]
  },
  {
   "cell_type": "code",
   "execution_count": 4,
   "metadata": {},
   "outputs": [
    {
     "data": {
      "text/plain": [
       "1.5422535211267605"
      ]
     },
     "execution_count": 4,
     "metadata": {},
     "output_type": "execute_result"
    }
   ],
   "source": [
    "219/142"
   ]
  },
  {
   "cell_type": "code",
   "execution_count": 2,
   "metadata": {},
   "outputs": [
    {
     "data": {
      "text/plain": [
       "1075"
      ]
     },
     "execution_count": 2,
     "metadata": {},
     "output_type": "execute_result"
    }
   ],
   "source": [
    "232+220+206+223+194"
   ]
  },
  {
   "cell_type": "code",
   "execution_count": 3,
   "metadata": {},
   "outputs": [
    {
     "data": {
      "text/plain": [
       "1053"
      ]
     },
     "execution_count": 3,
     "metadata": {},
     "output_type": "execute_result"
    }
   ],
   "source": [
    "236+204+223+198+192"
   ]
  },
  {
   "cell_type": "code",
   "execution_count": null,
   "metadata": {},
   "outputs": [],
   "source": []
  }
 ],
 "metadata": {
  "kernelspec": {
   "display_name": "Python 3",
   "language": "python",
   "name": "python3"
  },
  "language_info": {
   "codemirror_mode": {
    "name": "ipython",
    "version": 3
   },
   "file_extension": ".py",
   "mimetype": "text/x-python",
   "name": "python",
   "nbconvert_exporter": "python",
   "pygments_lexer": "ipython3",
   "version": "3.5.2"
  }
 },
 "nbformat": 4,
 "nbformat_minor": 4
}
