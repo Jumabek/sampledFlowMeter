{
 "cells": [
  {
   "cell_type": "code",
   "execution_count": 1,
   "metadata": {},
   "outputs": [],
   "source": [
    "import pandas as pd\n",
    "from os.path import join\n",
    "from glob import glob\n",
    "from collections import defaultdict\n",
    "from matplotlib import pyplot as plt\n",
    "from matplotlib.pyplot import figure\n",
    "import numpy as np\n",
    "from datetime import datetime\n",
    "from datetime import timedelta\n",
    "from tqdm import tqdm\n",
    "\n",
    "dataroot  = '/media/juma/data/net_intrusion/IDS18/CSVs/WS_l'"
   ]
  },
  {
   "cell_type": "code",
   "execution_count": 2,
   "metadata": {},
   "outputs": [],
   "source": [
    "df = None\n",
    "columns = ['Flow ID','Timestamp', 'TimestampMCS','Flow Duration','FIN Flag Cnt' ]\n",
    "for fn in glob(join(dataroot,'*Meter.csv')):\n",
    "    df = pd.read_csv(fn, usecols=columns)"
   ]
  },
  {
   "cell_type": "code",
   "execution_count": 3,
   "metadata": {},
   "outputs": [
    {
     "data": {
      "text/plain": [
       "(7594364, 7)"
      ]
     },
     "execution_count": 3,
     "metadata": {},
     "output_type": "execute_result"
    }
   ],
   "source": [
    "df['Flow Duration Sec']=df['Flow Duration']/10**6\n",
    "df['TimestampSec']=df['TimestampMCS']/10**6\n",
    "\n",
    "df.shape"
   ]
  },
  {
   "cell_type": "code",
   "execution_count": 4,
   "metadata": {},
   "outputs": [],
   "source": [
    "gdata = df.groupby(by=['Flow ID'], as_index=False)"
   ]
  },
  {
   "cell_type": "code",
   "execution_count": 5,
   "metadata": {},
   "outputs": [],
   "source": [
    "def convert_to_datetime(arr):\n",
    "    fmt = '%H:%M'\n",
    "    offset = timedelta(hours=11,minutes=36)\n",
    "    arr_str = []\n",
    "    for t in arr:\n",
    "        dt = datetime.fromtimestamp(t/1000000.)\n",
    "        dt = dt-offset\n",
    "        arr_str.append(dt.strftime(fmt))\n",
    "    return arr_str"
   ]
  },
  {
   "cell_type": "code",
   "execution_count": 6,
   "metadata": {},
   "outputs": [],
   "source": [
    "res = gdata['TimestampMCS'].agg({'count':'count'})\n",
    "res = res.sort_values(by='count',ascending=False)"
   ]
  },
  {
   "cell_type": "code",
   "execution_count": 27,
   "metadata": {},
   "outputs": [],
   "source": [
    "fin_count = gdata['FIN Flag Cnt'].agg({'#flags':'sum'})\n",
    "fin_count = fin_count.sort_values(by='#flags',ascending=False)"
   ]
  },
  {
   "cell_type": "code",
   "execution_count": null,
   "metadata": {},
   "outputs": [],
   "source": []
  },
  {
   "cell_type": "code",
   "execution_count": 35,
   "metadata": {
    "scrolled": true
   },
   "outputs": [
    {
     "data": {
      "text/html": [
       "<div>\n",
       "<style scoped>\n",
       "    .dataframe tbody tr th:only-of-type {\n",
       "        vertical-align: middle;\n",
       "    }\n",
       "\n",
       "    .dataframe tbody tr th {\n",
       "        vertical-align: top;\n",
       "    }\n",
       "\n",
       "    .dataframe thead th {\n",
       "        text-align: right;\n",
       "    }\n",
       "</style>\n",
       "<table border=\"1\" class=\"dataframe\">\n",
       "  <thead>\n",
       "    <tr style=\"text-align: right;\">\n",
       "      <th></th>\n",
       "      <th>Flow ID</th>\n",
       "      <th>#flags</th>\n",
       "    </tr>\n",
       "  </thead>\n",
       "  <tbody>\n",
       "    <tr>\n",
       "      <th>3020852</th>\n",
       "      <td>172.31.67.9-31.13.65.7-49608-443-6</td>\n",
       "      <td>12</td>\n",
       "    </tr>\n",
       "    <tr>\n",
       "      <th>1703304</th>\n",
       "      <td>172.31.66.114-8.43.72.21-49935-443-6</td>\n",
       "      <td>12</td>\n",
       "    </tr>\n",
       "    <tr>\n",
       "      <th>1165714</th>\n",
       "      <td>172.31.65.29-8.43.72.21-51157-443-6</td>\n",
       "      <td>12</td>\n",
       "    </tr>\n",
       "    <tr>\n",
       "      <th>3032248</th>\n",
       "      <td>172.31.67.92-151.101.34.109-50089-443-6</td>\n",
       "      <td>11</td>\n",
       "    </tr>\n",
       "    <tr>\n",
       "      <th>2513047</th>\n",
       "      <td>172.31.67.12-151.101.34.109-50719-443-6</td>\n",
       "      <td>11</td>\n",
       "    </tr>\n",
       "    <tr>\n",
       "      <th>2431563</th>\n",
       "      <td>172.31.67.107-151.101.32.175-51177-443-6</td>\n",
       "      <td>11</td>\n",
       "    </tr>\n",
       "  </tbody>\n",
       "</table>\n",
       "</div>"
      ],
      "text/plain": [
       "                                          Flow ID  #flags\n",
       "3020852        172.31.67.9-31.13.65.7-49608-443-6      12\n",
       "1703304      172.31.66.114-8.43.72.21-49935-443-6      12\n",
       "1165714       172.31.65.29-8.43.72.21-51157-443-6      12\n",
       "3032248   172.31.67.92-151.101.34.109-50089-443-6      11\n",
       "2513047   172.31.67.12-151.101.34.109-50719-443-6      11\n",
       "2431563  172.31.67.107-151.101.32.175-51177-443-6      11"
      ]
     },
     "execution_count": 35,
     "metadata": {},
     "output_type": "execute_result"
    }
   ],
   "source": [
    "fin_count.head(6)"
   ]
  },
  {
   "cell_type": "code",
   "execution_count": null,
   "metadata": {},
   "outputs": [],
   "source": []
  },
  {
   "cell_type": "code",
   "execution_count": null,
   "metadata": {},
   "outputs": [],
   "source": []
  },
  {
   "cell_type": "code",
   "execution_count": 8,
   "metadata": {},
   "outputs": [],
   "source": [
    "begin_time = df['TimestampMCS'].min()\n",
    "end_time = df['TimestampMCS'].max()\n",
    "\n",
    "time_labels = np.linspace(begin_time,end_time,6)\n",
    "lindices = convert_to_datetime(time_labels)"
   ]
  },
  {
   "cell_type": "code",
   "execution_count": 9,
   "metadata": {},
   "outputs": [
    {
     "name": "stdout",
     "output_type": "stream",
     "text": [
      "[1.51869740e+15 1.51882543e+15 1.51895347e+15 1.51908151e+15\n",
      " 1.51920955e+15 1.51933758e+15] ['09:47', '21:21', '08:55', '20:29', '08:03', '19:37']\n"
     ]
    }
   ],
   "source": [
    "print(time_labels,lindices)"
   ]
  },
  {
   "cell_type": "code",
   "execution_count": 30,
   "metadata": {},
   "outputs": [
    {
     "name": "stderr",
     "output_type": "stream",
     "text": [
      "\n",
      "6it [00:00, 663.95it/s]\n"
     ]
    }
   ],
   "source": [
    "record_counts = []\n",
    "flow_duration = []\n",
    "flowids = []\n",
    "fin_counts = []\n",
    "for row in tqdm(fin_count.head(6).itertuples()):\n",
    "    #print(row[1],row[2],end='\\t')\n",
    "    frame = gdata.get_group(row[1]).sort_values(by=['TimestampMCS'])    \n",
    "    if row[2]==1:\n",
    "        break\n",
    "    fin_occurance= frame['FIN Flag Cnt'].sum()\n",
    "\n",
    "    hdur = (frame['TimestampMCS'].max() - frame['TimestampMCS'].min())/10**6/60//60    \n",
    "    \n",
    "    fin_counts.append(fin_occurance)\n",
    "    flowids.append(row[1])\n",
    "    record_counts.append(row[2])\n",
    "    flow_duration.append(hdur)\n",
    "pd.DataFrame({'Flow ID':flowids,'# records': record_counts, 'Duration in Hour': flow_duration,'FIN flags':fin_counts}).to_csv(join(dataroot,'record_count_with_fin.csv'))"
   ]
  },
  {
   "cell_type": "code",
   "execution_count": 18,
   "metadata": {},
   "outputs": [],
   "source": [
    "filename = '/media/juma/data/net_intrusion/IDS18/CSVs/WS_l/record_count.csv'\n",
    "df2 = pd.read_csv(filename)"
   ]
  },
  {
   "cell_type": "code",
   "execution_count": 19,
   "metadata": {},
   "outputs": [
    {
     "data": {
      "text/plain": [
       "4823735"
      ]
     },
     "execution_count": 19,
     "metadata": {},
     "output_type": "execute_result"
    }
   ],
   "source": [
    "df2['# records'].sum()"
   ]
  },
  {
   "cell_type": "code",
   "execution_count": null,
   "metadata": {},
   "outputs": [],
   "source": []
  },
  {
   "cell_type": "code",
   "execution_count": 20,
   "metadata": {},
   "outputs": [
    {
     "data": {
      "text/plain": [
       "(1813352, 4)"
      ]
     },
     "execution_count": 20,
     "metadata": {},
     "output_type": "execute_result"
    }
   ],
   "source": [
    "df2.shape"
   ]
  },
  {
   "cell_type": "code",
   "execution_count": 21,
   "metadata": {},
   "outputs": [
    {
     "ename": "NameError",
     "evalue": "name 'dur' is not defined",
     "output_type": "error",
     "traceback": [
      "\u001b[0;31m---------------------------------------------------------------------------\u001b[0m",
      "\u001b[0;31mNameError\u001b[0m                                 Traceback (most recent call last)",
      "\u001b[0;32m<ipython-input-21-7f328b764776>\u001b[0m in \u001b[0;36m<module>\u001b[0;34m\u001b[0m\n\u001b[0;32m----> 1\u001b[0;31m \u001b[0mdur\u001b[0m\u001b[0;34m/\u001b[0m\u001b[0;36m10\u001b[0m\u001b[0;34m**\u001b[0m\u001b[0;36m6\u001b[0m\u001b[0;34m\u001b[0m\u001b[0;34m\u001b[0m\u001b[0m\n\u001b[0m",
      "\u001b[0;31mNameError\u001b[0m: name 'dur' is not defined"
     ]
    }
   ],
   "source": [
    "dur/10**6"
   ]
  },
  {
   "cell_type": "code",
   "execution_count": null,
   "metadata": {},
   "outputs": [],
   "source": [
    "dur/10**6/60"
   ]
  },
  {
   "cell_type": "code",
   "execution_count": null,
   "metadata": {},
   "outputs": [],
   "source": [
    "dur/10**6/60/60"
   ]
  },
  {
   "cell_type": "code",
   "execution_count": null,
   "metadata": {},
   "outputs": [],
   "source": []
  },
  {
   "cell_type": "code",
   "execution_count": null,
   "metadata": {},
   "outputs": [],
   "source": [
    "markers = ['>','*','<','o','^','d','D','>','*','<','o','^','d','D']\n",
    "num_markers = len(markers)\n",
    "figure(figsize=(25,12))\n",
    "font = {'size'   : 25}\n",
    "plt.rc('font', **font)\n",
    "plt.rcParams[\"axes.linewidth\"]  = 2.5\n",
    "plt.grid()\n",
    "counter=0\n",
    "for row in res.head(1).itertuples():\n",
    "    print(row[1],row[2],end='\\t')\n",
    "    frame = gdata.get_group(row[1]).sort_values(by=['TimestampMCS'])\n",
    "    frame.head()\n",
    "    plt.scatter((frame['TimestampSec']%(60*60*12)),y=frame['Flow Duration Sec'],s=500,marker=markers[counter%num_markers],\n",
    "                facecolors='none',edgecolors=np.random.rand(3,),linewidth=3)\n",
    "    counter+=1\n",
    "plt.ylabel('Flow Duration (sec)')\n",
    "plt.xlim(1760,1900)\n",
    "#plt.xticks(time_labels,lindices)"
   ]
  },
  {
   "cell_type": "code",
   "execution_count": null,
   "metadata": {},
   "outputs": [
    {
     "name": "stderr",
     "output_type": "stream",
     "text": [
      "\r",
      "1813291it [32:42, 1031.98it/s]"
     ]
    }
   ],
   "source": [
    "plt.show()"
   ]
  },
  {
   "cell_type": "code",
   "execution_count": null,
   "metadata": {},
   "outputs": [],
   "source": []
  }
 ],
 "metadata": {
  "kernelspec": {
   "display_name": "Python 3",
   "language": "python",
   "name": "python3"
  },
  "language_info": {
   "codemirror_mode": {
    "name": "ipython",
    "version": 3
   },
   "file_extension": ".py",
   "mimetype": "text/x-python",
   "name": "python",
   "nbconvert_exporter": "python",
   "pygments_lexer": "ipython3",
   "version": "3.5.2"
  }
 },
 "nbformat": 4,
 "nbformat_minor": 4
}
