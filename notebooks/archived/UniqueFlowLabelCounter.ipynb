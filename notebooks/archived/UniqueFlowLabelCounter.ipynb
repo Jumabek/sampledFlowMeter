{
 "cells": [
  {
   "cell_type": "code",
   "execution_count": 1,
   "metadata": {},
   "outputs": [],
   "source": [
    "import pandas as pd"
   ]
  },
  {
   "cell_type": "code",
   "execution_count": 30,
   "metadata": {},
   "outputs": [],
   "source": [
    "filename = '/home/juma/data/net_intrusion/CIC-IDS-2018/CSVs_mem_0.1/SR_1/sk_sr_95.33_l/Wednesday-21-02-2018_TrafficForML_CICFlowMeter.csv'"
   ]
  },
  {
   "cell_type": "code",
   "execution_count": 31,
   "metadata": {},
   "outputs": [
    {
     "data": {
      "text/plain": [
       "Index(['Flowid', 'Source IP', 'Source Port', 'Destination IP',\n",
       "       'Destination Port', 'Protocol', 'Timestamp', 'Feduration',\n",
       "       'total_fpackets', 'total_bpackets', 'total_fpktl', 'total_bpktl',\n",
       "       'min_fpktl', 'min_bpktl', 'max_fpktl', 'max_bpktl', 'mean_fpktl',\n",
       "       'mean_bpktl', 'std_fpktl', 'std_bpktl', 'total_fiat', 'total_biat',\n",
       "       'min_fiat', 'min_biat', 'max_fiat', 'max_biat', 'mean_fiat',\n",
       "       'mean_biat', 'std_fiat', 'std_biat', 'fpsh_cnt', 'bpsh_cnt', 'furg_cnt',\n",
       "       'burg_cnt', 'total_fhlen', 'total_bhlen', 'fPktsPerSecond',\n",
       "       'bPktsPerSecond', 'flowPktsPerSecond', 'flowBytesPerSecond',\n",
       "       'min_flowpktl', 'max_flowpktl', 'mean_flowpktl', 'std_flowpktl',\n",
       "       'min_flowiat', 'max_flowiat', 'mean_flowiat', 'std_flowiat', 'flow_fin',\n",
       "       'flow_syn', 'flow_rst', 'flow_psh', 'flow_ack', 'flow_urg',\n",
       "       'downUpRatio', 'Act_data_pkt_forward', 'min_seg_size_forward', 'Label'],\n",
       "      dtype='object')"
      ]
     },
     "execution_count": 31,
     "metadata": {},
     "output_type": "execute_result"
    }
   ],
   "source": [
    "df = pd.read_csv(filename)\n",
    "df.columns"
   ]
  },
  {
   "cell_type": "code",
   "execution_count": 32,
   "metadata": {},
   "outputs": [],
   "source": [
    "df_label = df[['Flowid','Label']]\n"
   ]
  },
  {
   "cell_type": "code",
   "execution_count": 33,
   "metadata": {},
   "outputs": [
    {
     "data": {
      "text/plain": [
       "Benign    174\n",
       "Name: Label, dtype: int64"
      ]
     },
     "execution_count": 33,
     "metadata": {},
     "output_type": "execute_result"
    }
   ],
   "source": [
    "df_label.Label.value_counts()"
   ]
  },
  {
   "cell_type": "code",
   "execution_count": 34,
   "metadata": {},
   "outputs": [
    {
     "data": {
      "text/plain": [
       "Benign    165\n",
       "Name: Label, dtype: int64"
      ]
     },
     "execution_count": 34,
     "metadata": {},
     "output_type": "execute_result"
    }
   ],
   "source": [
    "df_label.drop_duplicates().Label.value_counts()"
   ]
  },
  {
   "cell_type": "code",
   "execution_count": null,
   "metadata": {},
   "outputs": [],
   "source": []
  }
 ],
 "metadata": {
  "kernelspec": {
   "display_name": "Python 3",
   "language": "python",
   "name": "python3"
  },
  "language_info": {
   "codemirror_mode": {
    "name": "ipython",
    "version": 3
   },
   "file_extension": ".py",
   "mimetype": "text/x-python",
   "name": "python",
   "nbconvert_exporter": "python",
   "pygments_lexer": "ipython3",
   "version": "3.5.2"
  }
 },
 "nbformat": 4,
 "nbformat_minor": 2
}
