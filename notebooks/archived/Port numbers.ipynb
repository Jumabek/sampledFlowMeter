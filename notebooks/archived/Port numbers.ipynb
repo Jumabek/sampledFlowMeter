{
 "cells": [
  {
   "cell_type": "code",
   "execution_count": 15,
   "metadata": {},
   "outputs": [],
   "source": [
    "import numpy as np\n",
    "from collections import defaultdict\n",
    "import os\n",
    "from os.path import join as os_join\n",
    "from tqdm import tqdm\n",
    "import time\n",
    "from numpy import genfromtxt\n",
    "import matplotlib.pyplot as plt\n",
    "import pandas as pd\n",
    "%matplotlib inline\n",
    "\n",
    "\n",
    "\n",
    "def make_dictionary_from_flow(data):\n",
    "    d = defaultdict(list)\n",
    "    #print('making dictionary from flow')\n",
    "    for row in tqdm(data):\n",
    "        flowid = row[1]+'-'+row[2]+'-'+row[3]+'-'+row[4]+'-'+row[5]\n",
    "        d[flowid].append(row)\n",
    "    return d\n",
    "\n",
    "\n",
    "def read_csv(filename):\n",
    "    return pd.read_csv(filename,encoding='utf-8')\n",
    "\n",
    "\n",
    "def get_filenames(a_dir):\n",
    "    if '2018' in a_dir:\n",
    "        return [name for name in os.listdir(a_dir) if os.path.isfile(os_join(a_dir,name)) and name.endswith('_TrafficForML_CICFlowMeter.csv')]\n",
    "    else:\n",
    "        return [name for name in os.listdir(a_dir) if os.path.isfile(os.path.join(a_dir,name)) and not name.startswith(\".~lock.\") and (name.endswith(\".pcap_ISCX.csv\") or name.endswith(\".pcap_Flow.csv\"))]\n",
    "\n",
    "    \n",
    "def get_port_counts(dataroot):\n",
    "    filenames = get_filenames(dataroot)\n",
    "    src_port_counts = defaultdict(list)\n",
    "    dst_port_counts = defaultdict(list)\n",
    "\n",
    "    for filename in tqdm(filenames): # E: Friday-WorkingHours.pcap_Flow.csv\n",
    "        data = pd.read_csv(os_join(dataroot,filename),encoding='utf-8')\n",
    "        \n",
    "        \n",
    "        for row in data.itertuples():\n",
    "            src_port = int(row[3])\n",
    "            dst_port = int(row[5])\n",
    "            flow_label = row[-1]\n",
    "            src_port_counts[flow_label].append(src_port)\n",
    "            dst_port_counts[flow_label].append(dst_port)\n",
    "\n",
    "    return (src_port_counts,dst_port_counts)\n"
   ]
  },
  {
   "cell_type": "code",
   "execution_count": 16,
   "metadata": {},
   "outputs": [],
   "source": [
    "dataroot=  '/hdd/juma/data/net_intrusion/CIC-IDS-2018/CSVs/archive_flowlet/cicflowmeter'"
   ]
  },
  {
   "cell_type": "code",
   "execution_count": 17,
   "metadata": {},
   "outputs": [
    {
     "name": "stderr",
     "output_type": "stream",
     "text": [
      "\n",
      "\n",
      "\n",
      "  0%|          | 0/9 [00:00<?, ?it/s]\u001b[A\u001b[A\u001b[A\n",
      "\n",
      "\n",
      " 11%|█         | 1/9 [00:47<06:18, 47.37s/it]\u001b[A\u001b[A\u001b[A/usr/local/lib/python3.5/dist-packages/IPython/core/interactiveshell.py:3185: DtypeWarning: Columns (20) have mixed types. Specify dtype option on import or set low_memory=False.\n",
      "  if (yield from self.run_code(code, result)):\n",
      "\n",
      "\n",
      "\n",
      " 22%|██▏       | 2/9 [00:49<03:56, 33.75s/it]\u001b[A\u001b[A\u001b[A\n",
      "\n",
      "\n",
      " 33%|███▎      | 3/9 [00:50<02:24, 24.03s/it]\u001b[A\u001b[A\u001b[A\n",
      "\n",
      "\n",
      " 44%|████▍     | 4/9 [02:15<03:32, 42.41s/it]\u001b[A\u001b[A\u001b[A\n",
      "\n",
      "\n",
      " 56%|█████▌    | 5/9 [02:16<01:59, 29.78s/it]\u001b[A\u001b[A\u001b[A/usr/local/lib/python3.5/dist-packages/IPython/core/interactiveshell.py:3185: DtypeWarning: Columns (21) have mixed types. Specify dtype option on import or set low_memory=False.\n",
      "  if (yield from self.run_code(code, result)):\n",
      "\n",
      "\n",
      "\n",
      " 67%|██████▋   | 6/9 [02:25<01:10, 23.58s/it]\u001b[A\u001b[A\u001b[A\n",
      "\n",
      "\n",
      " 78%|███████▊  | 7/9 [02:26<00:33, 16.94s/it]\u001b[A\u001b[A\u001b[A\n",
      "\n",
      "\n",
      " 89%|████████▉ | 8/9 [02:39<00:15, 15.57s/it]\u001b[A\u001b[A\u001b[A\n",
      "\n",
      "\n",
      "100%|██████████| 9/9 [02:39<00:00, 10.95s/it]\u001b[A\u001b[A\u001b[A"
     ]
    }
   ],
   "source": [
    "s,d = get_port_counts(dataroot)"
   ]
  },
  {
   "cell_type": "code",
   "execution_count": 19,
   "metadata": {},
   "outputs": [
    {
     "name": "stdout",
     "output_type": "stream",
     "text": [
      "DoS-SlowHTTPTest          src port=[32768,60998] ==> dst port=[21,21]\n",
      "FTP-BruteForce            src port=[32768,60998] ==> dst port=[21,21]\n",
      "DoS-Hulk                  src port=[32768,60998] ==> dst port=[80,80]\n",
      "SQL Injection             src port=[49152,65534] ==> dst port=[80,80]\n",
      "DDOS-LOIC-UDP             src port=[49690,65378] ==> dst port=[80,80]\n",
      "DDOS-HOIC                 src port=[49152,65534] ==> dst port=[80,80]\n",
      "Infiltration              src port=[50887,54751] ==> dst port=[31337,31337]\n",
      "DDoS attacks-LOIC-HTTP    src port=[49152,65534] ==> dst port=[80,80]\n",
      "DoS-GoldenEye             src port=[32768,60998] ==> dst port=[80,80]\n",
      "SSH-Bruteforce            src port=[32768,60998] ==> dst port=[21,22]\n",
      "Brute Force-Web           src port=[49237,65424] ==> dst port=[80,80]\n",
      "Brute Force-XSS           src port=[49650,65086] ==> dst port=[80,80]\n",
      "DoS-Slowloris             src port=[37622,51578] ==> dst port=[80,80]\n",
      "Benign                    src port=[0,65535] ==> dst port=[0,65534]\n"
     ]
    }
   ],
   "source": [
    "for i,label in enumerate(s.keys()):\n",
    "    print(\"{:25} src port=[{},{}] ==> dst port=[{},{}]\".format( label,min(s[label]),max(s[label]),min(d[label]),max(d[label])))"
   ]
  },
  {
   "cell_type": "code",
   "execution_count": null,
   "metadata": {},
   "outputs": [],
   "source": []
  }
 ],
 "metadata": {
  "kernelspec": {
   "display_name": "Python 3",
   "language": "python",
   "name": "python3"
  },
  "language_info": {
   "codemirror_mode": {
    "name": "ipython",
    "version": 3
   },
   "file_extension": ".py",
   "mimetype": "text/x-python",
   "name": "python",
   "nbconvert_exporter": "python",
   "pygments_lexer": "ipython3",
   "version": "3.5.2"
  }
 },
 "nbformat": 4,
 "nbformat_minor": 2
}
