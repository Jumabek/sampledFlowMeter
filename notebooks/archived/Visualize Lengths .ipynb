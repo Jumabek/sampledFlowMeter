{
 "cells": [
  {
   "cell_type": "code",
   "execution_count": 1,
   "metadata": {},
   "outputs": [],
   "source": [
    "#datadir = '/media/bek/data/intrusion_detection/IDS17/GeneratedLabelledFlows/TrafficLabelling/'\n",
    "#datadir = '/media/bek/data/intrusion_detection/ISCX-Bot-2014/'\n",
    "datadir = '/home/isrl/data/net_intrusion/ISCX-Bot-2014/CSVs/cicflowmeter'"
   ]
  },
  {
   "cell_type": "code",
   "execution_count": 2,
   "metadata": {},
   "outputs": [],
   "source": [
    "import os\n",
    "import glob\n",
    "import numpy as np\n",
    "from numpy import genfromtxt\n",
    "from collections import defaultdict\n",
    "import time\n",
    "from tqdm import tqdm\n",
    "import matplotlib.pyplot as plt\n",
    "%matplotlib inline"
   ]
  },
  {
   "cell_type": "code",
   "execution_count": 3,
   "metadata": {},
   "outputs": [],
   "source": [
    "def read_csv(filename):\n",
    "    start = time.time()\n",
    "    with open(filename,encoding='utf-8') as csv_file:\n",
    "        print('Reading {} ...'.format(filename))\n",
    "        data= genfromtxt(filename, delimiter=',',dtype=np.str_)\n",
    "        print(data.shape)\n",
    "        data = data[1:] # remove header\n",
    "        data = np.char.strip(data,'\"')\n",
    "    \n",
    "    print('read in {:10.0f} sec'.format(time.time()-start))\n",
    "    return data"
   ]
  },
  {
   "cell_type": "code",
   "execution_count": 4,
   "metadata": {},
   "outputs": [],
   "source": [
    "template = os.path.join(datadir,'*.pcap_Flow.csv') \n",
    "filenames = [filename for filename in glob.glob(template)]"
   ]
  },
  {
   "cell_type": "code",
   "execution_count": 5,
   "metadata": {},
   "outputs": [
    {
     "name": "stdout",
     "output_type": "stream",
     "text": [
      "Reading /home/isrl/data/net_intrusion/ISCX-Bot-2014/CSVs/cicflowmeter/malicious_ips.csv ...\n",
      "(36,)\n",
      "read in          0 sec\n",
      "(35,)\n"
     ]
    }
   ],
   "source": [
    "malicious_ips = read_csv(os.path.join(datadir,'malicious_ips.csv'))\n",
    "print(malicious_ips.shape)"
   ]
  },
  {
   "cell_type": "code",
   "execution_count": 6,
   "metadata": {},
   "outputs": [
    {
     "name": "stdout",
     "output_type": "stream",
     "text": [
      "Reading /home/isrl/data/net_intrusion/ISCX-Bot-2014/CSVs/cicflowmeter/ISCX_Botnet-Training.pcap_Flow.csv ...\n"
     ]
    },
    {
     "name": "stderr",
     "output_type": "stream",
     "text": [
      "\r",
      "  0%|          | 0/356158 [00:00<?, ?it/s]"
     ]
    },
    {
     "name": "stdout",
     "output_type": "stream",
     "text": [
      "(356159, 85)\n",
      "read in         58 sec\n"
     ]
    },
    {
     "name": "stderr",
     "output_type": "stream",
     "text": [
      "100%|██████████| 356158/356158 [00:02<00:00, 138417.54it/s]\n"
     ]
    },
    {
     "name": "stdout",
     "output_type": "stream",
     "text": [
      "Reading /home/isrl/data/net_intrusion/ISCX-Bot-2014/CSVs/cicflowmeter/ISCX_Botnet-Testing.pcap_Flow.csv ...\n"
     ]
    },
    {
     "name": "stderr",
     "output_type": "stream",
     "text": [
      "  0%|          | 1/309206 [00:00<14:59:28,  5.73it/s]"
     ]
    },
    {
     "name": "stdout",
     "output_type": "stream",
     "text": [
      "(309207, 85)\n",
      "read in         50 sec\n"
     ]
    },
    {
     "name": "stderr",
     "output_type": "stream",
     "text": [
      "100%|██████████| 309206/309206 [00:02<00:00, 139444.56it/s]\n"
     ]
    }
   ],
   "source": [
    "flow_lengths = defaultdict(list)\n",
    "for filename in filenames:\n",
    "    flowid = defaultdict(list)\n",
    "    data  = read_csv(filename)\n",
    "    for i in tqdm(range(data.shape[0])):\n",
    "        row = data[i]        \n",
    "        total_packets = int(row[9]) + int(row[10])\n",
    "        if row[1] in malicious_ips:\n",
    "            label = 'BOTNET'\n",
    "        else:\n",
    "            label = 'BENIGN'\n",
    "        flow_lengths[label].append(total_packets)\n",
    "        "
   ]
  },
  {
   "cell_type": "code",
   "execution_count": 7,
   "metadata": {},
   "outputs": [
    {
     "name": "stdout",
     "output_type": "stream",
     "text": [
      "2\n",
      "2\n"
     ]
    }
   ],
   "source": [
    "for label,values  in flow_lengths.items():\n",
    "    flow_length_per_attack = np.array(values)\n",
    "    percentile = int(np.percentile(flow_length_per_attack,99))\n",
    "    reduced_flow_length =  np.where(flow_length_per_attack<percentile,flow_length_per_attack,0)\n",
    "    plt.hist(reduced_flow_length,percentile)\n",
    "    min_occurance = min(flow_length_per_attack)\n",
    "    print(min_occurance)\n",
    "    max_occurance = max(flow_length_per_attack)\n",
    "    plt.axis([0,percentile,min_occurance,max_occurance])\n",
    "    plt.grid()\n",
    "    plt.xlabel('Flow lengths')\n",
    "    plt.ylabel('Frequency')\n",
    "    plt.savefig(os.path.join(datadir,label+'_finegrained.png'))\n",
    "    plt.close()"
   ]
  },
  {
   "cell_type": "code",
   "execution_count": 8,
   "metadata": {},
   "outputs": [
    {
     "data": {
      "text/plain": [
       "27.0"
      ]
     },
     "execution_count": 8,
     "metadata": {},
     "output_type": "execute_result"
    }
   ],
   "source": [
    "np.percentile(np.array(flow_lengths['BOTNET']),95)"
   ]
  },
  {
   "cell_type": "code",
   "execution_count": null,
   "metadata": {},
   "outputs": [],
   "source": []
  }
 ],
 "metadata": {
  "kernelspec": {
   "display_name": "Python 3",
   "language": "python",
   "name": "python3"
  },
  "language_info": {
   "codemirror_mode": {
    "name": "ipython",
    "version": 3
   },
   "file_extension": ".py",
   "mimetype": "text/x-python",
   "name": "python",
   "nbconvert_exporter": "python",
   "pygments_lexer": "ipython3",
   "version": "3.6.8"
  }
 },
 "nbformat": 4,
 "nbformat_minor": 2
}
