{
 "cells": [
  {
   "cell_type": "code",
   "execution_count": 38,
   "metadata": {},
   "outputs": [],
   "source": [
    "#filename = '/home/isrl/data/CIC-IDS-2017/check_direction/Monday-WorkingHours.pcap_Flow.csv'\n",
    "#filename = '/home/isrl/data/CIC-IDS-2017/GeneratedLabelledFlows/TrafficLabellingMerged/Friday-WorkingHours.pcap_Flow.csv'\n",
    "filename = '/home/isrl/data/CIC-IDS-2017/PCAPs/output/Tuesday-WorkingHours.pcap_Flow.csv'\n"
   ]
  },
  {
   "cell_type": "code",
   "execution_count": 42,
   "metadata": {},
   "outputs": [],
   "source": [
    "import csv\n",
    "from collections import defaultdict\n",
    "fwd_cnt = 0\n",
    "bwd_cnt = 0\n",
    "flowids = {}\n",
    "\n",
    "header = None\n",
    "src_ips = defaultdict(int)\n",
    "with open(filename) as csv_file:\n",
    "    csv_reader = csv.reader(csv_file,delimiter=',')\n",
    "    line = -1\n",
    "    for row in csv_reader:\n",
    "        line+=1\n",
    "        if line==0:\n",
    "            #print(row)\n",
    "            header = row\n",
    "            continue\n",
    "        else:\n",
    "            if row[1] == \"Src IP\":\n",
    "                continue\n",
    "            src_ip,src_port,dst_ip,dst_port,proto, = row[1:6]\n",
    "            if \"FTP\"  in row[-1] :\n",
    "            #if dst_ip == \"172.16.0.1\" and src_ip == \"192.168.10.50\" and src_port==\"80\" and dst_port==\"18437\":\n",
    "            #if src_ip==\"192.168.10.50\" and src_port == \"56108\" and dst_ip==\"192.168.10.3\" and dst_port==\"3268\" and proto==\"6\":\n",
    "                src_ips[row[1]]+=1\n",
    "d = src_ips\n",
    "s = [(k, d[k]) for k in sorted(d, key=d.get, reverse=True)]\n",
    "for key,val in s:\n",
    "    print(\"{:20}:{:6}\".format(key,val))\n",
    "\n",
    "            "
   ]
  },
  {
   "cell_type": "code",
   "execution_count": null,
   "metadata": {},
   "outputs": [],
   "source": []
  },
  {
   "cell_type": "code",
   "execution_count": null,
   "metadata": {},
   "outputs": [],
   "source": []
  },
  {
   "cell_type": "code",
   "execution_count": 37,
   "metadata": {},
   "outputs": [
    {
     "name": "stdout",
     "output_type": "stream",
     "text": [
      "--------------------------------------\n",
      "Src IP frequency for Monday:\n",
      "--------------------------------------\n",
      "Src IP frequency for Tuesday:\n",
      "172.16.0.1          : 13835\n",
      "--------------------------------------\n",
      "Src IP frequency for Wednesday:\n",
      "172.16.0.1          :252672\n",
      "--------------------------------------\n",
      "Src IP frequency for Thursday:\n",
      "172.16.0.1          :  2180\n",
      "192.168.10.8        :    36\n",
      "--------------------------------------\n",
      "Src IP frequency for Friday:\n",
      "172.16.0.1          :286954\n",
      "205.174.165.73      :   705\n",
      "192.168.10.15       :   371\n",
      "192.168.10.8        :   271\n",
      "192.168.10.9        :   226\n",
      "192.168.10.14       :   209\n",
      "192.168.10.5        :   180\n",
      "192.168.10.50       :     3\n",
      "192.168.10.17       :     2\n",
      "192.168.10.12       :     2\n"
     ]
    }
   ],
   "source": [
    "import csv\n",
    "from collections import defaultdict\n",
    "\n",
    "days = ['Monday','Tuesday','Wednesday','Thursday','Friday']\n",
    "for day in days:\n",
    "    filename = '/home/isrl/data/CIC-IDS-2017/GeneratedLabelledFlows/TrafficLabellingMerged/{}-WorkingHours.pcap_Flow.csv'.format(day)\n",
    "    src_ips = defaultdict(int)\n",
    "    with open(filename) as csv_file:\n",
    "        csv_reader = csv.reader(csv_file,delimiter=',')\n",
    "        line = -1\n",
    "        for row in csv_reader:\n",
    "            line+=1\n",
    "            if line==0:\n",
    "                continue\n",
    "            else:\n",
    "                if \"Source IP\" in row[1] :# because I have some header repeted rows after merging multiple files for each day\n",
    "                    continue\n",
    "                if \"BENIGN\" not in row[-1] : # it means attack\n",
    "                    src_ips[row[1]]+=1\n",
    "    print('--------------------------------------')\n",
    "    print('Src IP frequency for {}:'.format(day))                    \n",
    "    d = src_ips\n",
    "    s = [(k, d[k]) for k in sorted(d, key=d.get, reverse=True)]\n",
    "    for key,val in s:\n",
    "        print(\"{:20}:{:6}\".format(key,val)) \n"
   ]
  },
  {
   "cell_type": "code",
   "execution_count": null,
   "metadata": {},
   "outputs": [],
   "source": []
  }
 ],
 "metadata": {
  "kernelspec": {
   "display_name": "Python 3",
   "language": "python",
   "name": "python3"
  },
  "language_info": {
   "codemirror_mode": {
    "name": "ipython",
    "version": 3
   },
   "file_extension": ".py",
   "mimetype": "text/x-python",
   "name": "python",
   "nbconvert_exporter": "python",
   "pygments_lexer": "ipython3",
   "version": "3.5.2"
  }
 },
 "nbformat": 4,
 "nbformat_minor": 2
}
