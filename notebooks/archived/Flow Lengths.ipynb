{
 "cells": [
  {
   "cell_type": "code",
   "execution_count": 45,
   "metadata": {},
   "outputs": [],
   "source": [
    "filename = '/home/isrl/data/CIC-IDS-2017/GeneratedLabelledFlows/TrafficLabellingMerged/Friday-WorkingHours.pcap_Flow.csv'\n",
    "#filename = '/home/isrl/data/CIC-IDS-2017/PCAPs/output/Tuesday-WorkingHours.pcap_Flow.csv'"
   ]
  },
  {
   "cell_type": "code",
   "execution_count": 46,
   "metadata": {},
   "outputs": [
    {
     "name": "stdout",
     "output_type": "stream",
     "text": [
      "['Flow ID', ' Source IP', ' Source Port', ' Destination IP', ' Destination Port', ' Protocol', ' Timestamp', ' Flow Duration', ' Total Fwd Packets', ' Total Backward Packets', 'Total Length of Fwd Packets', ' Total Length of Bwd Packets', ' Fwd Packet Length Max', ' Fwd Packet Length Min', ' Fwd Packet Length Mean', ' Fwd Packet Length Std', 'Bwd Packet Length Max', ' Bwd Packet Length Min', ' Bwd Packet Length Mean', ' Bwd Packet Length Std', 'Flow Bytes/s', ' Flow Packets/s', ' Flow IAT Mean', ' Flow IAT Std', ' Flow IAT Max', ' Flow IAT Min', 'Fwd IAT Total', ' Fwd IAT Mean', ' Fwd IAT Std', ' Fwd IAT Max', ' Fwd IAT Min', 'Bwd IAT Total', ' Bwd IAT Mean', ' Bwd IAT Std', ' Bwd IAT Max', ' Bwd IAT Min', 'Fwd PSH Flags', ' Bwd PSH Flags', ' Fwd URG Flags', ' Bwd URG Flags', ' Fwd Header Length', ' Bwd Header Length', 'Fwd Packets/s', ' Bwd Packets/s', ' Min Packet Length', ' Max Packet Length', ' Packet Length Mean', ' Packet Length Std', ' Packet Length Variance', 'FIN Flag Count', ' SYN Flag Count', ' RST Flag Count', ' PSH Flag Count', ' ACK Flag Count', ' URG Flag Count', ' CWE Flag Count', ' ECE Flag Count', ' Down/Up Ratio', ' Average Packet Size', ' Avg Fwd Segment Size', ' Avg Bwd Segment Size', ' Fwd Header Length', 'Fwd Avg Bytes/Bulk', ' Fwd Avg Packets/Bulk', ' Fwd Avg Bulk Rate', ' Bwd Avg Bytes/Bulk', ' Bwd Avg Packets/Bulk', 'Bwd Avg Bulk Rate', 'Subflow Fwd Packets', ' Subflow Fwd Bytes', ' Subflow Bwd Packets', ' Subflow Bwd Bytes', 'Init_Win_bytes_forward', ' Init_Win_bytes_backward', ' act_data_pkt_fwd', ' min_seg_size_forward', 'Active Mean', ' Active Std', ' Active Max', ' Active Min', 'Idle Mean', ' Idle Std', ' Idle Max', ' Idle Min', ' Label']\n",
      "['192.168.10.5-104.16.207.165-54865-443-6', '104.16.207.165', '443', '192.168.10.5', '54865', '6', '7/7/2017 3:30', '3', '2', '0', '12', '0', '6', '6', '6', '0', '0', '0', '0', '0', '4000000', '666666.6667', '3', '0', '3', '3', '3', '3', '0', '3', '3', '0', '0', '0', '0', '0', '0', '0', '0', '0', '40', '0', '666666.6667', '0', '6', '6', '6', '0', '0', '0', '0', '0', '0', '1', '0', '0', '0', '0', '9', '6', '0', '40', '0', '0', '0', '0', '0', '0', '2', '12', '0', '0', '33', '-1', '1', '20', '0', '0', '0', '0', '0', '0', '0', '0', 'BENIGN']\n"
     ]
    }
   ],
   "source": [
    "import csv\n",
    "header = None\n",
    "with open(filename) as csv_file:\n",
    "    csv_reader = csv.reader(csv_file,delimiter=',')\n",
    "    line = -1\n",
    "    for row in csv_reader:\n",
    "        line+=1\n",
    "        if line==0:\n",
    "            print(row)\n",
    "            header = row\n",
    "            continue\n",
    "        else:\n",
    "            print(row)\n",
    "            break\n",
    "        line+=1"
   ]
  },
  {
   "cell_type": "code",
   "execution_count": 47,
   "metadata": {},
   "outputs": [
    {
     "name": "stdout",
     "output_type": "stream",
     "text": [
      "Flow ID\n",
      " Source IP\n",
      " Source Port\n",
      " Destination IP\n",
      " Destination Port\n",
      " Protocol\n",
      " Timestamp\n",
      " Flow Duration\n",
      " Total Fwd Packets\n",
      " Total Backward Packets\n",
      "Total Length of Fwd Packets\n",
      " Total Length of Bwd Packets\n",
      " Fwd Packet Length Max\n",
      " Fwd Packet Length Min\n",
      " Fwd Packet Length Mean\n",
      " Fwd Packet Length Std\n",
      "Bwd Packet Length Max\n",
      " Bwd Packet Length Min\n",
      " Bwd Packet Length Mean\n",
      " Bwd Packet Length Std\n",
      "Flow Bytes/s\n",
      " Flow Packets/s\n",
      " Flow IAT Mean\n",
      " Flow IAT Std\n",
      " Flow IAT Max\n",
      " Flow IAT Min\n",
      "Fwd IAT Total\n",
      " Fwd IAT Mean\n",
      " Fwd IAT Std\n",
      " Fwd IAT Max\n",
      " Fwd IAT Min\n",
      "Bwd IAT Total\n",
      " Bwd IAT Mean\n",
      " Bwd IAT Std\n",
      " Bwd IAT Max\n",
      " Bwd IAT Min\n",
      "Fwd PSH Flags\n",
      " Bwd PSH Flags\n",
      " Fwd URG Flags\n",
      " Bwd URG Flags\n",
      " Fwd Header Length\n",
      " Bwd Header Length\n",
      "Fwd Packets/s\n",
      " Bwd Packets/s\n",
      " Min Packet Length\n",
      " Max Packet Length\n",
      " Packet Length Mean\n",
      " Packet Length Std\n",
      " Packet Length Variance\n",
      "FIN Flag Count\n",
      "49\n",
      " SYN Flag Count\n",
      " RST Flag Count\n",
      " PSH Flag Count\n",
      " ACK Flag Count\n",
      " URG Flag Count\n",
      " CWE Flag Count\n",
      " ECE Flag Count\n",
      " Down/Up Ratio\n",
      " Average Packet Size\n",
      " Avg Fwd Segment Size\n",
      " Avg Bwd Segment Size\n",
      " Fwd Header Length\n",
      "Fwd Avg Bytes/Bulk\n",
      " Fwd Avg Packets/Bulk\n",
      " Fwd Avg Bulk Rate\n",
      " Bwd Avg Bytes/Bulk\n",
      " Bwd Avg Packets/Bulk\n",
      "Bwd Avg Bulk Rate\n",
      "Subflow Fwd Packets\n",
      " Subflow Fwd Bytes\n",
      " Subflow Bwd Packets\n",
      " Subflow Bwd Bytes\n",
      "Init_Win_bytes_forward\n",
      " Init_Win_bytes_backward\n",
      " act_data_pkt_fwd\n",
      " min_seg_size_forward\n",
      "Active Mean\n",
      " Active Std\n",
      " Active Max\n",
      " Active Min\n",
      "Idle Mean\n",
      " Idle Std\n",
      " Idle Max\n",
      " Idle Min\n",
      " Label\n"
     ]
    }
   ],
   "source": [
    "for i,e in enumerate(header):\n",
    "    print(e)\n",
    "    if e=='FIN Flag Count':\n",
    "        print(i)"
   ]
  },
  {
   "cell_type": "code",
   "execution_count": 48,
   "metadata": {},
   "outputs": [],
   "source": [
    "import time\n",
    "from numpy import genfromtxt\n",
    "import numpy as np\n",
    "def read_csv(filename):\n",
    "    start = time.time()\n",
    "    with open(filename,encoding='utf-8') as csv_file:\n",
    "        print('Reading {} ...'.format(filename))\n",
    "        data= genfromtxt(filename, delimiter=',',dtype=np.str_)\n",
    "        data = data[1:,:] # remove header\n",
    "        data = np.char.strip(data,'\"')\n",
    "\n",
    "    print('read in {:10.0f} sec'.format(time.time()-start))\n",
    "    return data"
   ]
  },
  {
   "cell_type": "code",
   "execution_count": 49,
   "metadata": {},
   "outputs": [
    {
     "name": "stdout",
     "output_type": "stream",
     "text": [
      "Reading /home/isrl/data/CIC-IDS-2017/GeneratedLabelledFlows/TrafficLabellingMerged/Friday-WorkingHours.pcap_Flow.csv ...\n",
      "read in        113 sec\n"
     ]
    }
   ],
   "source": [
    "data = read_csv(filename)\n"
   ]
  },
  {
   "cell_type": "code",
   "execution_count": 50,
   "metadata": {},
   "outputs": [
    {
     "data": {
      "text/plain": [
       "(703247, 85)"
      ]
     },
     "execution_count": 50,
     "metadata": {},
     "output_type": "execute_result"
    }
   ],
   "source": [
    "data.shape"
   ]
  },
  {
   "cell_type": "code",
   "execution_count": 52,
   "metadata": {},
   "outputs": [
    {
     "name": "stdout",
     "output_type": "stream",
     "text": [
      "4736796 5176349\n"
     ]
    }
   ],
   "source": [
    "from collections import defaultdict\n",
    "flow_lengths_forward = defaultdict(lambda:0)\n",
    "flow_lengths_backward = defaultdict(lambda:0)\n",
    "fin_flag_forward = defaultdict(lambda:0)\n",
    "fin_flag_backward = defaultdict(lambda:0)\n",
    "\n",
    "fwd_cnt = 0\n",
    "bwd_cnt = 0\n",
    "for row in data:\n",
    "    if row[8]!=' Total Fwd Packets':\n",
    "        fwd_cnt+=int(row[8])\n",
    "        bwd_cnt+=int(row[9])\n",
    "print(fwd_cnt,bwd_cnt)\n",
    "    "
   ]
  }
 ],
 "metadata": {
  "kernelspec": {
   "display_name": "Python 3",
   "language": "python",
   "name": "python3"
  },
  "language_info": {
   "codemirror_mode": {
    "name": "ipython",
    "version": 3
   },
   "file_extension": ".py",
   "mimetype": "text/x-python",
   "name": "python",
   "nbconvert_exporter": "python",
   "pygments_lexer": "ipython3",
   "version": "3.5.2"
  }
 },
 "nbformat": 4,
 "nbformat_minor": 2
}
