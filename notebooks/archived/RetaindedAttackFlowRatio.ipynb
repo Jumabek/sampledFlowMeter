{
 "cells": [
  {
   "cell_type": "code",
   "execution_count": 1,
   "metadata": {},
   "outputs": [],
   "source": [
    "import glob\n",
    "import os\n",
    "from os.path import join\n",
    "from numpy import genfromtxt\n",
    "import numpy as np\n",
    "import pandas as pd\n",
    "import matplotlib.pyplot as plt\n",
    "from collections import defaultdict\n",
    "%matplotlib inline"
   ]
  },
  {
   "cell_type": "code",
   "execution_count": 2,
   "metadata": {},
   "outputs": [],
   "source": [
    "def get_pkt_count(dirs,ending):\n",
    "    counts = []\n",
    "    for d in dirs:\n",
    "        num_sampled_pkts = 0\n",
    "        for f in glob.glob(join(d,ending)):\n",
    "            num_sampled_pkts += int(open(f).readline())\n",
    "        counts.append(num_sampled_pkts)\n",
    "    return counts"
   ]
  },
  {
   "cell_type": "code",
   "execution_count": 3,
   "metadata": {},
   "outputs": [],
   "source": [
    "def get_immediate_subdirs(a_dir, only=''):\n",
    "    if only=='':\n",
    "        return [os.path.join(a_dir, name) for name in os.listdir(a_dir) \n",
    "                if os.path.isdir(os.path.join(a_dir, name)) and name.endswith('_l')]\n",
    "    else:\n",
    "        return [os.path.join(a_dir, name) for name in os.listdir(a_dir)\n",
    "                if os.path.isdir(os.path.join(a_dir, name)) and name.endswith('_l') and (only in name or 'whole' in name)]"
   ]
  },
  {
   "cell_type": "code",
   "execution_count": 4,
   "metadata": {},
   "outputs": [],
   "source": [
    "def get_flow_dists(dirs):\n",
    "    results = []\n",
    "    for d in dirs:\n",
    "        df = pd.read_csv(join(d,'label_dist.csv'),header=None,names=['Label','Count'])\n",
    "        results.append(df)\n",
    "            \n",
    "    return results\n",
    "        \n",
    "        "
   ]
  },
  {
   "cell_type": "code",
   "execution_count": 5,
   "metadata": {},
   "outputs": [],
   "source": [
    "def get_count_dir_names(dirs,ending):\n",
    "    pkt_counts = np.array(get_pkt_count(dirs,ending))\n",
    "    flow_dists = get_flow_dists(dirs)\n",
    "    dir_names = np.array([os.path.basename(dir)[:-2] for dir in dirs])\n",
    "        \n",
    "    sorted_index = np.argsort(dir_names)\n",
    "    pkt_counts = pkt_counts[sorted_index]\n",
    "    flow_dists = [flow_dists[i] for i in sorted_index]\n",
    "    dir_names = dir_names[sorted_index]\n",
    "    \n",
    "    return flow_dists,pkt_counts,dir_names"
   ]
  },
  {
   "cell_type": "code",
   "execution_count": 6,
   "metadata": {},
   "outputs": [],
   "source": [
    "def get_count4whole(ending):\n",
    "    d = '/home/juma/data/net_intrusion/CIC-IDS-2018/whole_l'\n",
    "    num_sampled_pkts = 0\n",
    "    for f in glob.glob(join(d,ending)):\n",
    "        num_sampled_pkts += int(open(f).readline())\n",
    "    return num_sampled_pkts\n",
    "\n",
    "def get_flow_dist4whole():\n",
    "    d = '/home/juma/data/net_intrusion/CIC-IDS-2018/whole_l'\n",
    "    df = pd.read_csv(join(d,'label_dist.csv'),header=None,names=['Label','Count'])          \n",
    "    return df\n",
    "        \n",
    "        "
   ]
  },
  {
   "cell_type": "code",
   "execution_count": 7,
   "metadata": {},
   "outputs": [],
   "source": [
    "import math\n",
    "def autolabel(rects, xpos='center'):\n",
    "    \"\"\"\n",
    "    Attach a text label above each bar in *rects*, displaying its height.\n",
    "\n",
    "    *xpos* indicates which side to place the text w.r.t. the center of\n",
    "    the bar. It can be one of the following {'center', 'right', 'left'}.\n",
    "    \"\"\"\n",
    "\n",
    "    ha = {'center': 'center', 'right': 'left', 'left': 'right'}\n",
    "    offset = {'center': 0, 'right': 1, 'left': -1}\n",
    "    max_height = 0\n",
    "    for rect in rects:\n",
    "        height = rect.get_height()\n",
    "        if height > max_height:\n",
    "            max_height = height\n",
    "            \n",
    "    for rect in rects:\n",
    "        height = rect.get_height()\n",
    "        ax.annotate('{0:.2f}%'.format(100*height/max_height),\n",
    "                    xy=(rect.get_x() + rect.get_width() / 2, height),\n",
    "                    xytext=(offset[xpos]*3, 1),  # use 3 points offset\n",
    "                    textcoords=\"offset points\",  # in both directions\n",
    "                    ha=ha[xpos], va='bottom')\n"
   ]
  },
  {
   "cell_type": "code",
   "execution_count": 8,
   "metadata": {},
   "outputs": [],
   "source": [
    "\n",
    "def plot_comparison(dir_names,counts,ax,dataset_name,y_label):\n",
    "    ind = np.arange(len(dir_names))*20\n",
    "    width=15\n",
    "    N = len(dirs)\n",
    "    colors = []\n",
    "    labels = []\n",
    "    for dir_name in dir_names:\n",
    "        if 'sk_sr' in dir_name:\n",
    "            color='orange'\n",
    "            label = 'sketchflow'\n",
    "        elif 'sgs_e' in dir_name:\n",
    "            color = 'green'\n",
    "            label = 'sgs'\n",
    "        elif 'sf_sr' in dir_name:\n",
    "            color = 'blue'\n",
    "            label = 'sFlow'\n",
    "        elif 'ffs_(' in dir_name:\n",
    "            color = 'red'\n",
    "            label = 'Fast Filtered Sampling'\n",
    "        elif 'sel' in dir_name:\n",
    "            color = 'purple'\n",
    "            label = 'selective flow samp.'\n",
    "        elif 'whole' in dir_name or 'cicflow' in dir_name:\n",
    "            color = 'gray'\n",
    "            label = 'whole data'\n",
    "        else:\n",
    "            print('Investigate plot_comparison',dir_name)\n",
    "            \n",
    "        colors.append(color)\n",
    "        labels.append(label)\n",
    "        \n",
    "    rects = ax.bar(ind,counts,label=dataset_name,width=width,color=colors)\n",
    "\n",
    "    #Add some text for labels, title and custom x-axis tick labels, etc.    \n",
    "    #ax.set_title('Finding Equivalent Sampling Rate for comparision')\n",
    "    ax.set_xticks(ind)\n",
    "    ax.set_xticklabels(dir_names,rotation=45)\n",
    "    ax.set_ylabel(y_label)\n",
    "    ax.legend()\n",
    "    ax.grid()\n",
    "    #ax.margins(0.15)\n",
    "    autolabel(rects)\n",
    "\n",
    "\n"
   ]
  },
  {
   "cell_type": "code",
   "execution_count": 9,
   "metadata": {},
   "outputs": [],
   "source": [
    "def extract_sampler_names(dir_names):\n",
    "    colors = []\n",
    "    sampler_names = []\n",
    "    for dir_name in dir_names:\n",
    "        if 'sk_sr' in dir_name:\n",
    "            color='orange'\n",
    "            label = 'SketchFlow Sampling'\n",
    "        elif 'sgs_e' in dir_name:\n",
    "            color = 'green'\n",
    "            label = 'Sketch Guided Sampling'\n",
    "        elif 'sf_sr' in dir_name or 'SF_NO_LIMIT' in dir_name:\n",
    "            color = 'blue'\n",
    "            label = 'Random Packet Sampling'\n",
    "        elif 'ffs_(' in dir_name:\n",
    "            color = 'red'\n",
    "            label = 'Fast Filtered Sampling'\n",
    "        elif 'sel' in dir_name:\n",
    "            color = 'purple'\n",
    "            label = 'Selective Flow Sampling'\n",
    "        elif 'whole' in dir_name or 'cicflow' in dir_name:\n",
    "            color = 'gray'\n",
    "            label = 'Without Sampling'\n",
    "        else:\n",
    "            print('Investigate plot_comparison',dir_name)\n",
    "            \n",
    "        colors.append(color)\n",
    "        sampler_names.append(label)\n",
    "    return sampler_names"
   ]
  },
  {
   "cell_type": "code",
   "execution_count": 13,
   "metadata": {
    "scrolled": true
   },
   "outputs": [],
   "source": [
    "root = '/home/juma/data/net_intrusion/CIC-IDS-2018/NO_LIMIT/'\n",
    "label = 'CIC-IDS-2018'\n",
    "ending = '*.spc'\n",
    "\n",
    "total_pkts = get_count4whole(ending)\n",
    "whole_df = get_flow_dist4whole()\n"
   ]
  },
  {
   "cell_type": "code",
   "execution_count": 14,
   "metadata": {},
   "outputs": [],
   "source": [
    "#attack_labels = whole_df['Label'].values\n",
    "#for label in attack_labels:\n",
    "#    num_flows = whole_df[whole_df['Label']==label]['Count'].values[0]\n",
    "#    print(\"{0:30} - > {1}\".format(label,num_flows))"
   ]
  },
  {
   "cell_type": "code",
   "execution_count": 22,
   "metadata": {},
   "outputs": [
    {
     "name": "stdout",
     "output_type": "stream",
     "text": [
      "-----------------SR of 10 --------------------\n",
      "-----------------SR of 10 --------------------\n",
      "******************Random Packet Sampling*********************\n",
      "Benign                         75489\n",
      "Brute Force-Web                225\n",
      "Brute Force-XSS                117\n",
      "DDoS attacks-LOIC-HTTP         185817\n",
      "DDoS-HOIC                      747562\n",
      "DDoS-LOIC-UDP                  2619\n",
      "DoS-GoldenEye                  17721\n",
      "DoS-Hulk                       327445\n",
      "DoS-SlowHTTPTest               20478\n",
      "DoS-Slowloris                  5594\n",
      "FTP-BruteForce                 37006\n",
      "Infiltration                   85\n",
      "SQL Injection                  45\n",
      "SSH-BruteForce                 93768\n",
      "-----------------SR of 1 --------------------\n",
      "-----------------SR of 1 --------------------\n",
      "******************Random Packet Sampling*********************\n",
      "Benign                         11052\n",
      "Brute Force-Web                141\n",
      "Brute Force-XSS                109\n",
      "DDoS attacks-LOIC-HTTP         25342\n",
      "DDoS-HOIC                      104551\n",
      "DDoS-LOIC-UDP                  2480\n",
      "DoS-GoldenEye                  2502\n",
      "DoS-Hulk                       70749\n",
      "DoS-SlowHTTPTest               2140\n",
      "DoS-Slowloris                  946\n",
      "FTP-BruteForce                 3825\n",
      "Infiltration                   28\n",
      "SQL Injection                  2\n",
      "SSH-BruteForce                 35508\n",
      "-----------------SR of 0.1 --------------------\n",
      "-----------------SR of 0.1 --------------------\n",
      "******************Random Packet Sampling*********************\n",
      "Benign                         1328\n",
      "Brute Force-Web                33\n",
      "Brute Force-XSS                28\n",
      "DDoS attacks-LOIC-HTTP         2539\n",
      "DDoS-HOIC                      10669\n",
      "DDoS-LOIC-UDP                  2437\n",
      "DoS-GoldenEye                  257\n",
      "DoS-Hulk                       15500\n",
      "DoS-SlowHTTPTest               208\n",
      "DoS-Slowloris                  94\n",
      "FTP-BruteForce                 370\n",
      "Infiltration                   1\n",
      "SQL Injection                  2\n",
      "SSH-BruteForce                 4137\n"
     ]
    }
   ],
   "source": [
    "attack_labels = whole_df['Label'].values\n",
    "header = np.concatenate((['Sampling technique'],attack_labels))\n",
    "df = pd.DataFrame(columns=header)\n",
    "flow_counts = defaultdict(list)\n",
    "flow_counts['Sampling Rate'].append('Without sampling')\n",
    "for attack_label in attack_labels:\n",
    "    flow_counts[attack_label].append('100')\n",
    "flow_counts['Total Malicious Flows'].append('100')\n",
    "    \n",
    "only_sampling_method = 'SF'\n",
    "for sr in ['SR_10','SR_1','SR_0.1']:\n",
    "    original_flows_sum = 0\n",
    "    sampled_flows_sum = 0\n",
    "    print(\"-----------------SR of {} --------------------\".format(sr[3:]))\n",
    "    print(\"-----------------SR of {} --------------------\".format(sr[3:]))\n",
    "    flow_counts['Sampling Rate'].append(sr[3:])\n",
    "    \n",
    "    dirs = get_immediate_subdirs(join(root,sr),only=only_sampling_method)\n",
    "    flow_dists,pkt_counts,dir_names = get_count_dir_names(dirs,ending)\n",
    "\n",
    "    # below here would form a single table for Sampling_rate x Attacks for specific SR\n",
    "    sampler_names = extract_sampler_names(dir_names)\n",
    "    for i,sampler_name in enumerate(sampler_names):\n",
    "        flow_dist_df = flow_dists[i]\n",
    "        print('******************{0:20}*********************'.format(sampler_name))\n",
    "            \n",
    "        for label in attack_labels:\n",
    "                #make list dictionary for each attack type on sampler names\n",
    "                if len(flow_dist_df[flow_dist_df['Label']==label]['Count'])>0:\n",
    "                    num_flows = flow_dist_df[flow_dist_df['Label']==label]['Count'].values[0]\n",
    "                else:\n",
    "                    num_flows = 0\n",
    "                original_num_flows = whole_df[whole_df['Label']==label]['Count'].values[0]                               \n",
    "                flow_counts[label].append('{:.2f}'.format(100*num_flows/original_num_flows))\n",
    "                print('{:30}'.format(label),num_flows)\n",
    "                \n",
    "                if label==\"Benign\":\n",
    "                    continue\n",
    "                original_flows_sum+=original_num_flows\n",
    "                sampled_flows_sum += num_flows\n",
    "                \n",
    "    flow_counts['Total Malicious Flows'].append('{:.2f}'.format(100*sampled_flows_sum/original_flows_sum))\n",
    " \n",
    "    \n",
    "pd.DataFrame.from_dict(flow_counts).to_csv(join(root,'retained_attacks_{}.csv'.format(only_sampling_method)),index=False)\n",
    "           \n",
    "    "
   ]
  },
  {
   "cell_type": "code",
   "execution_count": 21,
   "metadata": {},
   "outputs": [
    {
     "data": {
      "text/plain": [
       "defaultdict(list,\n",
       "            {'Sampling Rate': ['Without sampling', '10', '1', '0.1'],\n",
       "             'Benign': ['100', '15.98', '2.34', '0.28'],\n",
       "             'Brute Force-Web': ['100', '31.96', '20.03', '4.69'],\n",
       "             'Brute Force-XSS': ['100', '34.51', '32.15', '8.26'],\n",
       "             'DDoS attacks-LOIC-HTTP': ['100', '32.09', '4.38', '0.44'],\n",
       "             'DDoS-HOIC': ['100', '23.19', '3.24', '0.33'],\n",
       "             'DDoS-LOIC-UDP': ['100', '68.20', '64.58', '63.46'],\n",
       "             'DoS-GoldenEye': ['100', '38.61', '5.45', '0.56'],\n",
       "             'DoS-Hulk': ['100', '9.29', '2.01', '0.44'],\n",
       "             'DoS-SlowHTTPTest': ['100', '19.40', '2.03', '0.20'],\n",
       "             'DoS-Slowloris': ['100', '54.73', '9.26', '0.92'],\n",
       "             'FTP-BruteForce': ['100', '19.44', '2.01', '0.19'],\n",
       "             'Infiltration': ['100', '82.52', '27.18', '0.97'],\n",
       "             'SQL Injection': ['100', '35.71', '1.59', '1.59'],\n",
       "             'SSH-BruteForce': ['100', '50.52', '19.13', '2.23'],\n",
       "             'Total Malicious Flows': ['100', '18.28', '3.15', '0.46']})"
      ]
     },
     "execution_count": 21,
     "metadata": {},
     "output_type": "execute_result"
    }
   ],
   "source": [
    "flow_counts"
   ]
  },
  {
   "cell_type": "code",
   "execution_count": 26,
   "metadata": {},
   "outputs": [
    {
     "data": {
      "text/plain": [
       "8.434782608695652"
      ]
     },
     "execution_count": 26,
     "metadata": {},
     "output_type": "execute_result"
    }
   ],
   "source": [
    "19.4/2.3 dosslowhttptest"
   ]
  },
  {
   "cell_type": "code",
   "execution_count": null,
   "metadata": {},
   "outputs": [],
   "source": []
  },
  {
   "cell_type": "code",
   "execution_count": 24,
   "metadata": {},
   "outputs": [
    {
     "data": {
      "text/plain": [
       "5.803174603174604"
      ]
     },
     "execution_count": 24,
     "metadata": {},
     "output_type": "execute_result"
    }
   ],
   "source": [
    "18.28/3.15"
   ]
  },
  {
   "cell_type": "code",
   "execution_count": 25,
   "metadata": {},
   "outputs": [
    {
     "data": {
      "text/plain": [
       "7.157407407407407"
      ]
     },
     "execution_count": 25,
     "metadata": {},
     "output_type": "execute_result"
    }
   ],
   "source": [
    "23.19/3.24"
   ]
  },
  {
   "cell_type": "code",
   "execution_count": null,
   "metadata": {},
   "outputs": [],
   "source": []
  }
 ],
 "metadata": {
  "kernelspec": {
   "display_name": "Python 3",
   "language": "python",
   "name": "python3"
  },
  "language_info": {
   "codemirror_mode": {
    "name": "ipython",
    "version": 3
   },
   "file_extension": ".py",
   "mimetype": "text/x-python",
   "name": "python",
   "nbconvert_exporter": "python",
   "pygments_lexer": "ipython3",
   "version": "3.6.8"
  }
 },
 "nbformat": 4,
 "nbformat_minor": 2
}
