{
 "cells": [
  {
   "cell_type": "code",
   "execution_count": 8,
   "metadata": {},
   "outputs": [],
   "source": [
    "import pandas as pd\n",
    "filename = '/data/juma/data/ids18/CSVs/WS_l/label_dist.csv'\n",
    "outputfilename = filename.replace('label_dist.csv','label_dist_table.csv')"
   ]
  },
  {
   "cell_type": "code",
   "execution_count": 9,
   "metadata": {},
   "outputs": [],
   "source": [
    "df = pd.read_csv(filename,header=None)"
   ]
  },
  {
   "cell_type": "code",
   "execution_count": 13,
   "metadata": {},
   "outputs": [],
   "source": [
    "id_to_label = {}\n",
    "label_to_id = {}\n",
    "for id,label in enumerate(df[0].sort_values()):\n",
    "    id_to_label[id] = label\n",
    "    label_to_id[label] = id\n",
    "    "
   ]
  },
  {
   "cell_type": "code",
   "execution_count": 14,
   "metadata": {},
   "outputs": [
    {
     "data": {
      "text/plain": [
       "{0: 'Benign',\n",
       " 1: 'DDoS-HOIC',\n",
       " 2: 'DDoS-LOIC-HTTP',\n",
       " 3: 'DDoS-LOIC-UDP',\n",
       " 4: 'DoS-GoldenEye',\n",
       " 5: 'DoS-Hulk',\n",
       " 6: 'DoS-SlowHTTPTest',\n",
       " 7: 'DoS-Slowloris',\n",
       " 8: 'FTP-BruteForce',\n",
       " 9: 'Infiltration',\n",
       " 10: 'SSH-BruteForce'}"
      ]
     },
     "execution_count": 14,
     "metadata": {},
     "output_type": "execute_result"
    }
   ],
   "source": [
    "id_to_label"
   ]
  },
  {
   "cell_type": "code",
   "execution_count": 15,
   "metadata": {},
   "outputs": [
    {
     "data": {
      "text/plain": [
       "{'Benign': 0,\n",
       " 'DDoS-HOIC': 1,\n",
       " 'DDoS-LOIC-HTTP': 2,\n",
       " 'DDoS-LOIC-UDP': 3,\n",
       " 'DoS-GoldenEye': 4,\n",
       " 'DoS-Hulk': 5,\n",
       " 'DoS-SlowHTTPTest': 6,\n",
       " 'DoS-Slowloris': 7,\n",
       " 'FTP-BruteForce': 8,\n",
       " 'Infiltration': 9,\n",
       " 'SSH-BruteForce': 10}"
      ]
     },
     "execution_count": 15,
     "metadata": {},
     "output_type": "execute_result"
    }
   ],
   "source": [
    "label_to_id"
   ]
  },
  {
   "cell_type": "code",
   "execution_count": 16,
   "metadata": {},
   "outputs": [
    {
     "data": {
      "text/plain": [
       "Int64Index([0, 1], dtype='int64')"
      ]
     },
     "execution_count": 16,
     "metadata": {},
     "output_type": "execute_result"
    }
   ],
   "source": [
    "df.columns"
   ]
  },
  {
   "cell_type": "code",
   "execution_count": 21,
   "metadata": {},
   "outputs": [],
   "source": [
    "labels = []\n",
    "counts = []\n",
    "for i,row in df.iterrows():\n",
    "    labels.append(row[0])\n",
    "    counts.append(row[1])\n",
    "\n",
    "counts.append(sum(counts))\n",
    "labels.append('Total Flows')\n",
    "pd.DataFrame([counts],columns=labels).to_csv(outputfilename,index=False)"
   ]
  },
  {
   "cell_type": "code",
   "execution_count": 18,
   "metadata": {},
   "outputs": [
    {
     "data": {
      "text/plain": [
       "['Benign',\n",
       " 'Brute Force-Web',\n",
       " 'Brute Force-XSS',\n",
       " 'DDoS attacks-LOIC-HTTP',\n",
       " 'DDoS-HOIC',\n",
       " 'DDoS-LOIC-UDP',\n",
       " 'DoS-GoldenEye',\n",
       " 'DoS-Hulk',\n",
       " 'DoS-SlowHTTPTest',\n",
       " 'DoS-Slowloris',\n",
       " 'FTP-BruteForce',\n",
       " 'Infiltration',\n",
       " 'SQL Injection',\n",
       " 'SSH-BruteForce']"
      ]
     },
     "execution_count": 18,
     "metadata": {},
     "output_type": "execute_result"
    }
   ],
   "source": [
    "labels"
   ]
  },
  {
   "cell_type": "code",
   "execution_count": 20,
   "metadata": {},
   "outputs": [
    {
     "data": {
      "text/plain": [
       "8343490"
      ]
     },
     "execution_count": 20,
     "metadata": {},
     "output_type": "execute_result"
    }
   ],
   "source": [
    "sum(counts)"
   ]
  },
  {
   "cell_type": "code",
   "execution_count": null,
   "metadata": {},
   "outputs": [],
   "source": []
  }
 ],
 "metadata": {
  "kernelspec": {
   "display_name": "Python 3",
   "language": "python",
   "name": "python3"
  },
  "language_info": {
   "codemirror_mode": {
    "name": "ipython",
    "version": 3
   },
   "file_extension": ".py",
   "mimetype": "text/x-python",
   "name": "python",
   "nbconvert_exporter": "python",
   "pygments_lexer": "ipython3",
   "version": "3.5.2"
  }
 },
 "nbformat": 4,
 "nbformat_minor": 2
}
