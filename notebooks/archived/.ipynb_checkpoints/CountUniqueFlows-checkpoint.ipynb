{
 "cells": [
  {
   "cell_type": "code",
   "execution_count": 12,
   "metadata": {},
   "outputs": [],
   "source": [
    "#datadir = '/media/bek/data/intrusion_detection/IDS17/GeneratedLabelledFlows/TrafficLabelling/'\n",
    "datadir = '/media/bek/data/intrusion_detection/ISCX-Bot-2014/'"
   ]
  },
  {
   "cell_type": "code",
   "execution_count": 13,
   "metadata": {},
   "outputs": [],
   "source": [
    "import os\n",
    "import glob\n",
    "import numpy as np\n",
    "from numpy import genfromtxt\n",
    "from collections import defaultdict\n",
    "import time\n",
    "from tqdm import tqdm\n",
    "import csv\n",
    "import matplotlib.pyplot as plt\n",
    "%matplotlib inline"
   ]
  },
  {
   "cell_type": "code",
   "execution_count": 24,
   "metadata": {},
   "outputs": [],
   "source": [
    "def read_csv(filename):\n",
    "    start = time.time()\n",
    "    with open(filename,encoding='utf-8') as csv_file:\n",
    "        print('Reading {} ...'.format(filename))\n",
    "        data= genfromtxt(filename, delimiter=',',dtype=np.str_)\n",
    "        print(data.shape)\n",
    "        data = data[1:] # remove header\n",
    "        data = np.char.strip(data,'\"')\n",
    "    \n",
    "    print('read in {:10.0f} sec'.format(time.time()-start))\n",
    "    return data"
   ]
  },
  {
   "cell_type": "code",
   "execution_count": 25,
   "metadata": {},
   "outputs": [],
   "source": [
    "template = os.path.join(datadir,'*.pcap_Flow.csv') \n",
    "filenames = [filename for filename in glob.glob(template)]"
   ]
  },
  {
   "cell_type": "code",
   "execution_count": 26,
   "metadata": {},
   "outputs": [],
   "source": [
    "def write_csv(d,filename):\n",
    "    with open(filename,'w') as f:\n",
    "        for key,val in d.items():\n",
    "            f.write('{},{}\\n'.format(key,val))"
   ]
  },
  {
   "cell_type": "code",
   "execution_count": 27,
   "metadata": {},
   "outputs": [
    {
     "name": "stdout",
     "output_type": "stream",
     "text": [
      "Reading /media/bek/data/intrusion_detection/ISCX-Bot-2014/malicious_ips.csv ...\n",
      "(36,)\n",
      "read in          0 sec\n",
      "(35,)\n"
     ]
    }
   ],
   "source": [
    "malicious_ips = read_csv(os.path.join(datadir,'malicious_ips.csv'))\n",
    "print(malicious_ips.shape)"
   ]
  },
  {
   "cell_type": "code",
   "execution_count": 34,
   "metadata": {},
   "outputs": [],
   "source": [
    "def get_malicious_count(malicious_ips,unique_source_ips):\n",
    "    malicious_count = 0\n",
    "    for ip in malicious_ips:\n",
    "        malicious_count+=unique_source_ips[ip]\n",
    "    return malicious_count"
   ]
  },
  {
   "cell_type": "code",
   "execution_count": 36,
   "metadata": {},
   "outputs": [
    {
     "name": "stdout",
     "output_type": "stream",
     "text": [
      "Reading /media/bek/data/intrusion_detection/ISCX-Bot-2014/ISCX_Botnet-Training.pcap_Flow.csv ...\n",
      "(356160, 85)\n"
     ]
    },
    {
     "name": "stderr",
     "output_type": "stream",
     "text": [
      "  0%|          | 1/356159 [00:00<16:53:28,  5.86it/s]"
     ]
    },
    {
     "name": "stdout",
     "output_type": "stream",
     "text": [
      "read in         40 sec\n"
     ]
    },
    {
     "name": "stderr",
     "output_type": "stream",
     "text": [
      "100%|██████████| 356159/356159 [00:01<00:00, 303055.02it/s]"
     ]
    },
    {
     "name": "stdout",
     "output_type": "stream",
     "text": [
      "8226\n",
      "8204\n",
      "0.536313837359157\n",
      "\n"
     ]
    },
    {
     "name": "stderr",
     "output_type": "stream",
     "text": [
      "\n"
     ]
    }
   ],
   "source": [
    "for filename in filenames[1:2]:\n",
    "    unique_sourceIPs = defaultdict(int)\n",
    "    unique_m_flowids = defaultdict(int)\n",
    "    unique_b_flowids = defaultdict(int)\n",
    "    data  = read_csv(filename)\n",
    "    for i in tqdm(range(data.shape[0])):\n",
    "        row = data[i]\n",
    "        flowid = row[1]+'-'+row[2]+'-'+row[3]+'-'+row[4]+'-'+row[5]\n",
    "        unique_sourceIPs[row[1]]+=1\n",
    "\n",
    "    print(len(unique_flowids.keys()))\n",
    "    print(len(set(unique_sourceIPs)))\n",
    "    print(get_malicious_count(malicious_ips, unique_sourceIPs)/sum(unique_sourceIPs.values()))\n",
    "    print()\n",
    "    \n",
    "    #write_csv(unique_sourceIPs,filename.replace('.csv','_unique_srcIPs.csv'))"
   ]
  },
  {
   "cell_type": "code",
   "execution_count": 37,
   "metadata": {},
   "outputs": [
    {
     "name": "stdout",
     "output_type": "stream",
     "text": [
      "Reading /media/bek/data/intrusion_detection/ISCX-Bot-2014/ISCX_Botnet-Training.pcap_Flow.csv ...\n",
      "(356160, 85)\n"
     ]
    },
    {
     "name": "stderr",
     "output_type": "stream",
     "text": [
      "  0%|          | 1/356159 [00:00<16:30:43,  5.99it/s]"
     ]
    },
    {
     "name": "stdout",
     "output_type": "stream",
     "text": [
      "read in         40 sec\n"
     ]
    },
    {
     "name": "stderr",
     "output_type": "stream",
     "text": [
      "100%|██████████| 356159/356159 [00:02<00:00, 143264.50it/s]"
     ]
    },
    {
     "name": "stdout",
     "output_type": "stream",
     "text": [
      "0.5239996559513624\n",
      "\n"
     ]
    },
    {
     "name": "stderr",
     "output_type": "stream",
     "text": [
      "\n"
     ]
    }
   ],
   "source": [
    "for filename in filenames[1:2]:\n",
    "    unique_sourceIPs = defaultdict(int)\n",
    "    unique_m_flowids = defaultdict(int)\n",
    "    unique_b_flowids = defaultdict(int)\n",
    "    data  = read_csv(filename)\n",
    "    for i in tqdm(range(data.shape[0])):\n",
    "        row = data[i]\n",
    "        flowid = row[1]+'-'+row[2]+'-'+row[3]+'-'+row[4]+'-'+row[5]\n",
    "        if row[1] in malicious_ips:\n",
    "            unique_m_flowids[flowid]+=1\n",
    "        else:\n",
    "            unique_b_flowids[flowid]+=1\n",
    "        \n",
    "    print(len(unique_m_flowids)/(len(unique_b_flowids)+len(unique_m_flowids)))\n",
    "    print()\n",
    "    \n",
    "    #write_csv(unique_sourceIPs,filename.replace('.csv','_unique_srcIPs.csv'))"
   ]
  },
  {
   "cell_type": "code",
   "execution_count": null,
   "metadata": {},
   "outputs": [],
   "source": [
    "unique_m_flowids[]"
   ]
  },
  {
   "cell_type": "code",
   "execution_count": 18,
   "metadata": {},
   "outputs": [
    {
     "data": {
      "text/plain": [
       "42255"
      ]
     },
     "execution_count": 18,
     "metadata": {},
     "output_type": "execute_result"
    }
   ],
   "source": [
    "unique_sourceIPs['147.32.84.160']\n"
   ]
  }
 ],
 "metadata": {
  "kernelspec": {
   "display_name": "Python 3",
   "language": "python",
   "name": "python3"
  },
  "language_info": {
   "codemirror_mode": {
    "name": "ipython",
    "version": 3
   },
   "file_extension": ".py",
   "mimetype": "text/x-python",
   "name": "python",
   "nbconvert_exporter": "python",
   "pygments_lexer": "ipython3",
   "version": "3.5.2"
  }
 },
 "nbformat": 4,
 "nbformat_minor": 2
}
