{
 "cells": [
  {
   "cell_type": "code",
   "execution_count": 22,
   "metadata": {},
   "outputs": [],
   "source": [
    "from glob import glob\n",
    "import os\n",
    "from os.path import join\n",
    "import ntpath\n",
    "import numpy as np\n",
    "import pandas as pd\n",
    "import matplotlib.pyplot as plt\n",
    "%matplotlib inline"
   ]
  },
  {
   "cell_type": "code",
   "execution_count": 23,
   "metadata": {},
   "outputs": [],
   "source": [
    "def matplotlib_setup():\n",
    "    font = {'size'   : 28}\n",
    "    plt.rc('font', **font)\n",
    "    plt.rcParams[\"axes.linewidth\"]  = 2.5"
   ]
  },
  {
   "cell_type": "code",
   "execution_count": 24,
   "metadata": {},
   "outputs": [],
   "source": [
    "import math\n",
    "def autolabel(rects, whole_cnt,SR=10):    \n",
    "    SI = 100/SR\n",
    "    \n",
    "    offset = {'center': 0, 'right': 1, 'left': -1}\n",
    "    max_height = 0\n",
    "    for rect in rects:\n",
    "        height = rect.get_height()\n",
    "        if height > max_height:\n",
    "            max_height = height\n",
    "            \n",
    "    for rect in rects:\n",
    "        height = rect.get_height()\n",
    "        ax.annotate('{0:.3f}%'.format((100*height/whole_cnt)/SI),\n",
    "                    xy=(rect.get_x() + rect.get_width() / 2, height),\n",
    "                    xytext=(offset['center']*3, 1),  # use 3 points offset\n",
    "                    textcoords=\"offset points\",  # in both directions\n",
    "                    ha='center', va='bottom')\n"
   ]
  },
  {
   "cell_type": "code",
   "execution_count": 25,
   "metadata": {},
   "outputs": [],
   "source": [
    "def plot_comparison(dir_names,counts,ax,y_label,whole_cnt,SR=10):\n",
    "    colors = ['g','y','b','r','m','g','y','b','r','m']\n",
    "    counts = counts/1000000\n",
    "    whole_cnt = whole_cnt/1000000\n",
    "    ind = np.arange(len(dir_names))*20\n",
    "    width=15\n",
    "\n",
    "    labels = []\n",
    "    tick_labels = []\n",
    "    for i,dir_name in enumerate(dir_names):\n",
    "        if 'SFS' in dir_name:\n",
    "            color='orange'\n",
    "            label = 'SFS'\n",
    "            full_name = 'SketchFlow'\n",
    "        elif 'SGS' in dir_name:\n",
    "            color = 'green'\n",
    "            label = 'SGS'\n",
    "            full_name = 'Sketch Guided'\n",
    "        elif 'SRS' in dir_name:\n",
    "            color = 'blue'\n",
    "            label = 'RPS'\n",
    "            full_name = 'Random Packet Sampling'\n",
    "        elif 'FFS_(' in dir_name:\n",
    "            color = 'red'\n",
    "            label = 'FFS'\n",
    "            full_name = 'Fast Filtered'\n",
    "        elif 'whole' in dir_name or 'cicflow' in dir_name:\n",
    "            color = 'gray'\n",
    "            label = 'whole data'\n",
    "        else:\n",
    "            print('Investigate plot_comparison',dir_name)\n",
    "            \n",
    "        tick_labels.append(label)\n",
    "        rects = ax.bar(ind[i],counts[i],label=label + ' - ' + full_name,width=width,color=color)\n",
    "        autolabel(rects,whole_cnt,SR=SR)\n",
    "    ax.set_xticks(ind)\n",
    "    ax.set_xticklabels(dir_names,rotation=60)\n",
    "    ax.set_ylabel(y_label)\n",
    "    ylim= 1.6*max(counts)\n",
    "    ax.set_ylim(0,ylim)    \n",
    "    ax.grid(linewidth=2)\n",
    "    #ax.margins(0.15)\n",
    "    "
   ]
  },
  {
   "cell_type": "code",
   "execution_count": 26,
   "metadata": {},
   "outputs": [
    {
     "ename": "TypeError",
     "evalue": "unsupported operand type(s) for /: 'NoneType' and 'int'",
     "output_type": "error",
     "traceback": [
      "\u001b[0;31m---------------------------------------------------------------------------\u001b[0m",
      "\u001b[0;31mTypeError\u001b[0m                                 Traceback (most recent call last)",
      "\u001b[0;32m<ipython-input-26-98fd6a842f61>\u001b[0m in \u001b[0;36m<module>\u001b[0;34m\u001b[0m\n\u001b[1;32m     20\u001b[0m \u001b[0mplt\u001b[0m\u001b[0;34m.\u001b[0m\u001b[0mclose\u001b[0m\u001b[0;34m(\u001b[0m\u001b[0;34m)\u001b[0m\u001b[0;34m\u001b[0m\u001b[0m\n\u001b[1;32m     21\u001b[0m \u001b[0mfig\u001b[0m\u001b[0;34m,\u001b[0m \u001b[0max\u001b[0m \u001b[0;34m=\u001b[0m \u001b[0mplt\u001b[0m\u001b[0;34m.\u001b[0m\u001b[0msubplots\u001b[0m\u001b[0;34m(\u001b[0m\u001b[0mnrows\u001b[0m\u001b[0;34m=\u001b[0m\u001b[0;36m1\u001b[0m\u001b[0;34m,\u001b[0m\u001b[0mncols\u001b[0m\u001b[0;34m=\u001b[0m\u001b[0;36m1\u001b[0m\u001b[0;34m,\u001b[0m\u001b[0msharex\u001b[0m\u001b[0;34m=\u001b[0m\u001b[0;32mFalse\u001b[0m\u001b[0;34m,\u001b[0m\u001b[0mfigsize\u001b[0m\u001b[0;34m=\u001b[0m\u001b[0;34m(\u001b[0m\u001b[0;36m25\u001b[0m\u001b[0;34m,\u001b[0m\u001b[0;36m12\u001b[0m\u001b[0;34m)\u001b[0m\u001b[0;34m)\u001b[0m\u001b[0;34m\u001b[0m\u001b[0m\n\u001b[0;32m---> 22\u001b[0;31m \u001b[0mplot_comparison\u001b[0m\u001b[0;34m(\u001b[0m\u001b[0mdir_names\u001b[0m\u001b[0;34m,\u001b[0m\u001b[0mcnts\u001b[0m\u001b[0;34m,\u001b[0m\u001b[0max\u001b[0m\u001b[0;34m,\u001b[0m\u001b[0;34m'pkt count (M)'\u001b[0m\u001b[0;34m,\u001b[0m \u001b[0mbaseline_cnt\u001b[0m\u001b[0;34m,\u001b[0m \u001b[0mSR\u001b[0m\u001b[0;34m=\u001b[0m\u001b[0mSR\u001b[0m\u001b[0;34m)\u001b[0m\u001b[0;34m\u001b[0m\u001b[0m\n\u001b[0m\u001b[1;32m     23\u001b[0m \u001b[0mbox\u001b[0m \u001b[0;34m=\u001b[0m \u001b[0max\u001b[0m\u001b[0;34m.\u001b[0m\u001b[0mget_position\u001b[0m\u001b[0;34m(\u001b[0m\u001b[0;34m)\u001b[0m\u001b[0;34m\u001b[0m\u001b[0m\n\u001b[1;32m     24\u001b[0m \u001b[0;31m#ax.set_position([box.x0, box.y0, box.width*0.65, box.height])\u001b[0m\u001b[0;34m\u001b[0m\u001b[0;34m\u001b[0m\u001b[0m\n",
      "\u001b[0;32m<ipython-input-25-6da9da87d48f>\u001b[0m in \u001b[0;36mplot_comparison\u001b[0;34m(dir_names, counts, ax, y_label, whole_cnt, SR)\u001b[0m\n\u001b[1;32m      2\u001b[0m     \u001b[0mcolors\u001b[0m \u001b[0;34m=\u001b[0m \u001b[0;34m[\u001b[0m\u001b[0;34m'g'\u001b[0m\u001b[0;34m,\u001b[0m\u001b[0;34m'y'\u001b[0m\u001b[0;34m,\u001b[0m\u001b[0;34m'b'\u001b[0m\u001b[0;34m,\u001b[0m\u001b[0;34m'r'\u001b[0m\u001b[0;34m,\u001b[0m\u001b[0;34m'm'\u001b[0m\u001b[0;34m,\u001b[0m\u001b[0;34m'g'\u001b[0m\u001b[0;34m,\u001b[0m\u001b[0;34m'y'\u001b[0m\u001b[0;34m,\u001b[0m\u001b[0;34m'b'\u001b[0m\u001b[0;34m,\u001b[0m\u001b[0;34m'r'\u001b[0m\u001b[0;34m,\u001b[0m\u001b[0;34m'm'\u001b[0m\u001b[0;34m]\u001b[0m\u001b[0;34m\u001b[0m\u001b[0m\n\u001b[1;32m      3\u001b[0m     \u001b[0mcounts\u001b[0m \u001b[0;34m=\u001b[0m \u001b[0mcounts\u001b[0m\u001b[0;34m/\u001b[0m\u001b[0;36m1000000\u001b[0m\u001b[0;34m\u001b[0m\u001b[0m\n\u001b[0;32m----> 4\u001b[0;31m     \u001b[0mwhole_cnt\u001b[0m \u001b[0;34m=\u001b[0m \u001b[0mwhole_cnt\u001b[0m\u001b[0;34m/\u001b[0m\u001b[0;36m1000000\u001b[0m\u001b[0;34m\u001b[0m\u001b[0m\n\u001b[0m\u001b[1;32m      5\u001b[0m     \u001b[0mind\u001b[0m \u001b[0;34m=\u001b[0m \u001b[0mnp\u001b[0m\u001b[0;34m.\u001b[0m\u001b[0marange\u001b[0m\u001b[0;34m(\u001b[0m\u001b[0mlen\u001b[0m\u001b[0;34m(\u001b[0m\u001b[0mdir_names\u001b[0m\u001b[0;34m)\u001b[0m\u001b[0;34m)\u001b[0m\u001b[0;34m*\u001b[0m\u001b[0;36m20\u001b[0m\u001b[0;34m\u001b[0m\u001b[0m\n\u001b[1;32m      6\u001b[0m     \u001b[0mwidth\u001b[0m\u001b[0;34m=\u001b[0m\u001b[0;36m15\u001b[0m\u001b[0;34m\u001b[0m\u001b[0m\n",
      "\u001b[0;31mTypeError\u001b[0m: unsupported operand type(s) for /: 'NoneType' and 'int'"
     ]
    },
    {
     "data": {
      "image/png": "[encoded data removed]",
      "text/plain": [
       "<Figure size 1800x864 with 1 Axes>"
      ]
     },
     "metadata": {
      "needs_background": "light"
     },
     "output_type": "display_data"
    }
   ],
   "source": [
    "matplotlib_setup()\n",
    "baseline_cnt = None\n",
    "SR = 10\n",
    "root = '/data/juma/data/ids18/CSVs_r_1.0_m_1.0/SR_{:.1f}'.format(SR)\n",
    "cnts = []\n",
    "dir_names = []\n",
    "for d in sorted(glob(join(root,'*_l'))):\n",
    "    dir_names.append(ntpath.basename(d))\n",
    "    \n",
    "    with open(join(d,'num_pkt.txt')) as f:\n",
    "        cnt = int(f.readline())\n",
    "        cnts.append(cnt)\n",
    "        if 'SRS' in d:\n",
    "            baseline_cnt = cnt\n",
    "cnts = np.array(cnts)\n",
    "\n",
    "\n",
    "#by packet count\n",
    "plt.clf()\n",
    "plt.close()\n",
    "fig, ax = plt.subplots(nrows=1,ncols=1,sharex=False,figsize=(25,12))\n",
    "plot_comparison(dir_names,cnts,ax,'pkt count (M)', baseline_cnt, SR=SR)\n",
    "box = ax.get_position()\n",
    "#ax.set_position([box.x0, box.y0, box.width*0.65, box.height])\n",
    "#ax.legend(ncol=2,loc='upper center',bbox_to_anchor=(0.5, 1))\n",
    "#ax.legend(ncol=2)\n",
    "fig.tight_layout()\n",
    "plt.savefig(join(root,'pkt_si_10.png'), bbox_inches='tight')\n",
    "\n",
    "plt.show()"
   ]
  },
  {
   "cell_type": "code",
   "execution_count": null,
   "metadata": {},
   "outputs": [],
   "source": [
    "matplotlib_setup()\n",
    "baseline_cnt = None\n",
    "SR = 1\n",
    "root = '/data/juma/data/ids18/CSVs_r_0.001_m_1.0/SR_{:.1f}'.format(SR)\n",
    "cnts = []\n",
    "dir_names = []\n",
    "for d in sorted(glob(join(root,'*_l'))):\n",
    "    dir_names.append(ntpath.basename(d))\n",
    "    \n",
    "    with open(join(d,'num_pkt.txt')) as f:\n",
    "        cnt = int(f.readline())\n",
    "        cnts.append(cnt)\n",
    "        if 'SRS' in d:\n",
    "            baseline_cnt = cnt\n",
    "cnts = np.array(cnts)\n",
    "\n",
    "#by packet count\n",
    "plt.clf()\n",
    "plt.close()\n",
    "fig, ax = plt.subplots(nrows=1,ncols=1,sharex=False,figsize=(25,12))\n",
    "plot_comparison(dir_names,cnts,ax,'pkt count (M)', baseline_cnt, SR=SR)\n",
    "box = ax.get_position()\n",
    "#ax.set_position([box.x0, box.y0, box.width*0.65, box.height])\n",
    "#ax.legend(ncol=2,loc='upper center',bbox_to_anchor=(0.5, 1))\n",
    "#ax.legend(ncol=2)\n",
    "fig.tight_layout()\n",
    "plt.savefig(join(root,'pkt_SR_{}.png'.format(SR)), bbox_inches='tight')\n",
    "\n",
    "plt.show()"
   ]
  },
  {
   "cell_type": "code",
   "execution_count": null,
   "metadata": {},
   "outputs": [],
   "source": [
    "matplotlib_setup()\n",
    "baseline_cnt = None\n",
    "SR = 0.1\n",
    "root = '/data/juma/data/ids18/CSVs_r_1.0_m_1.0/SR_{:.1f}'.format(SR)\n",
    "cnts = []\n",
    "dir_names = []\n",
    "for d in sorted(glob(join(root,'*_l'))):\n",
    "    dir_names.append(ntpath.basename(d))\n",
    "    \n",
    "    with open(join(d,'num_pkt.txt')) as f:\n",
    "        cnt = int(f.readline())\n",
    "        cnts.append(cnt)\n",
    "        if 'SRS' in d:\n",
    "            baseline_cnt = cnt\n",
    "cnts = np.array(cnts)\n",
    "\n",
    "#by packet count\n",
    "plt.clf()\n",
    "plt.close()\n",
    "fig, ax = plt.subplots(nrows=1,ncols=1,sharex=False,figsize=(25,12))\n",
    "plot_comparison(dir_names,cnts,ax,'pkt count (M)', baseline_cnt, SR=SR)\n",
    "box = ax.get_position()\n",
    "#ax.set_position([box.x0, box.y0, box.width*0.65, box.height])\n",
    "#ax.legend(ncol=2,loc='upper center',bbox_to_anchor=(0.5, 1))\n",
    "#ax.legend(ncol=2)\n",
    "fig.tight_layout()\n",
    "plt.savefig(join(root,'pkt_SR_{}.png'.format(SR)), bbox_inches='tight')\n",
    "\n",
    "plt.show()"
   ]
  },
  {
   "cell_type": "code",
   "execution_count": null,
   "metadata": {},
   "outputs": [],
   "source": []
  },
  {
   "cell_type": "code",
   "execution_count": null,
   "metadata": {},
   "outputs": [],
   "source": []
  }
 ],
 "metadata": {
  "kernelspec": {
   "display_name": "Python 3",
   "language": "python",
   "name": "python3"
  },
  "language_info": {
   "codemirror_mode": {
    "name": "ipython",
    "version": 3
   },
   "file_extension": ".py",
   "mimetype": "text/x-python",
   "name": "python",
   "nbconvert_exporter": "python",
   "pygments_lexer": "ipython3",
   "version": "3.5.2"
  }
 },
 "nbformat": 4,
 "nbformat_minor": 4
}
