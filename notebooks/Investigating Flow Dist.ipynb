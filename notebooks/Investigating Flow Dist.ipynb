{
 "cells": [
  {
   "cell_type": "code",
   "execution_count": 79,
   "metadata": {},
   "outputs": [],
   "source": [
    "import pandas as pd\n",
    "from os.path import join\n",
    "#dataroot = '/data/juma/data/ids18/CSVs/WS_l_old/'\n",
    "dataroot = '/data/juma/data/ids18/CSVs_r_1.0/SR_10/RPS_SI_10_l/'"
   ]
  },
  {
   "cell_type": "code",
   "execution_count": 80,
   "metadata": {},
   "outputs": [
    {
     "data": {
      "text/plain": [
       "Benign              4665749\n",
       "DDoS-HOIC             32728\n",
       "DDoS-LOIC-HTTP        26561\n",
       "SSH-BruteForce         2824\n",
       "DoS-Hulk               2823\n",
       "FTP-BruteForce         2674\n",
       "DoS-GoldenEye          2423\n",
       "DoS-SlowHTTPTest       2246\n",
       "DoS-Slowloris           977\n",
       "DDoS-LOIC-UDP           110\n",
       "Brute Force-Web          40\n",
       "Brute Force-XSS          23\n",
       "SQL Injection             7\n",
       "Infiltration              1\n",
       "Name: Label, dtype: int64"
      ]
     },
     "execution_count": 80,
     "metadata": {},
     "output_type": "execute_result"
    }
   ],
   "source": [
    "fn = join(dataroot,'fold_0.csv')\n",
    "cols = ['Flow ID','Label']\n",
    "df0 = pd.read_csv(fn, usecols=cols, dtype={'Flow ID':str,'Day':str,'Label':str})\n",
    "df0 = df0.drop_duplicates(subset=cols)\n",
    "ds0 = df0['Label'].value_counts()\n",
    "ds0"
   ]
  },
  {
   "cell_type": "code",
   "execution_count": 81,
   "metadata": {},
   "outputs": [
    {
     "data": {
      "text/plain": [
       "Benign              4064074\n",
       "DDoS-HOIC             32728\n",
       "DDoS-LOIC-HTTP        26561\n",
       "SSH-BruteForce         2824\n",
       "DoS-Hulk               2823\n",
       "FTP-BruteForce         2674\n",
       "DoS-GoldenEye          2423\n",
       "DoS-SlowHTTPTest       2246\n",
       "DoS-Slowloris           977\n",
       "DDoS-LOIC-UDP           110\n",
       "Brute Force-Web          40\n",
       "Brute Force-XSS          23\n",
       "SQL Injection             7\n",
       "Infiltration              1\n",
       "Name: Label, dtype: int64"
      ]
     },
     "execution_count": 81,
     "metadata": {},
     "output_type": "execute_result"
    }
   ],
   "source": [
    "fn = join(dataroot,'fold_1.csv')\n",
    "df1 = pd.read_csv(fn,usecols=cols, dtype={'Flow ID':str,'Day':str,'Label':str})\n",
    "df1 = df1.drop_duplicates(subset=cols)\n",
    "ds1 = df1['Label'].value_counts()\n",
    "ds1"
   ]
  },
  {
   "cell_type": "code",
   "execution_count": 82,
   "metadata": {},
   "outputs": [
    {
     "data": {
      "text/plain": [
       "Benign              4191720\n",
       "DDoS-HOIC             32728\n",
       "DDoS-LOIC-HTTP        26561\n",
       "SSH-BruteForce         2824\n",
       "DoS-Hulk               2823\n",
       "FTP-BruteForce         2674\n",
       "DoS-GoldenEye          2423\n",
       "DoS-SlowHTTPTest       2246\n",
       "DoS-Slowloris           977\n",
       "DDoS-LOIC-UDP           110\n",
       "Brute Force-Web          40\n",
       "Brute Force-XSS          23\n",
       "SQL Injection             7\n",
       "Infiltration              1\n",
       "Name: Label, dtype: int64"
      ]
     },
     "execution_count": 82,
     "metadata": {},
     "output_type": "execute_result"
    }
   ],
   "source": [
    "fn = join(dataroot,'fold_2.csv')\n",
    "df2 = pd.read_csv(fn,usecols=cols, dtype={'Flow ID':str,'Day':str,'Label':str})\n",
    "df2 = df2.drop_duplicates(subset=cols)\n",
    "ds2 = df2['Label'].value_counts()\n",
    "ds2"
   ]
  },
  {
   "cell_type": "code",
   "execution_count": 83,
   "metadata": {},
   "outputs": [
    {
     "data": {
      "text/plain": [
       "Benign              5309577\n",
       "DDoS-HOIC             32728\n",
       "DDoS-LOIC-HTTP        26561\n",
       "SSH-BruteForce         2824\n",
       "DoS-Hulk               2823\n",
       "FTP-BruteForce         2674\n",
       "DoS-GoldenEye          2423\n",
       "DoS-SlowHTTPTest       2246\n",
       "DoS-Slowloris           977\n",
       "DDoS-LOIC-UDP           110\n",
       "Brute Force-Web          40\n",
       "Brute Force-XSS          23\n",
       "SQL Injection             7\n",
       "Infiltration              1\n",
       "Name: Label, dtype: int64"
      ]
     },
     "execution_count": 83,
     "metadata": {},
     "output_type": "execute_result"
    }
   ],
   "source": [
    "fn = join(dataroot,'fold_3.csv')\n",
    "df3 = pd.read_csv(fn,usecols=cols, dtype={'Flow ID':str,'Day':str,'Label':str})\n",
    "df3 = df3.drop_duplicates(subset=cols)\n",
    "ds3 = df3['Label'].value_counts()\n",
    "ds3"
   ]
  },
  {
   "cell_type": "code",
   "execution_count": 84,
   "metadata": {},
   "outputs": [
    {
     "data": {
      "text/plain": [
       "Benign              6083696\n",
       "DDoS-HOIC             32728\n",
       "DDoS-LOIC-HTTP        26561\n",
       "SSH-BruteForce         2824\n",
       "DoS-Hulk               2823\n",
       "FTP-BruteForce         2674\n",
       "DoS-GoldenEye          2423\n",
       "DoS-SlowHTTPTest       2246\n",
       "DoS-Slowloris           977\n",
       "DDoS-LOIC-UDP           110\n",
       "Brute Force-Web          40\n",
       "Brute Force-XSS          23\n",
       "SQL Injection             7\n",
       "Infiltration              1\n",
       "Name: Label, dtype: int64"
      ]
     },
     "execution_count": 84,
     "metadata": {},
     "output_type": "execute_result"
    }
   ],
   "source": [
    "fn = join(dataroot,'fold_4.csv')\n",
    "df4 = pd.read_csv(fn,usecols=cols, dtype={'Flow ID':str,'Day':str,'Label':str})\n",
    "df4 = df4.drop_duplicates(subset=cols)\n",
    "ds4 = df4['Label'].value_counts()\n",
    "ds4"
   ]
  },
  {
   "cell_type": "code",
   "execution_count": 48,
   "metadata": {},
   "outputs": [],
   "source": [
    "ds = ds0+ds1+ds2+ds3+ds4"
   ]
  },
  {
   "cell_type": "code",
   "execution_count": 49,
   "metadata": {},
   "outputs": [
    {
     "data": {
      "text/plain": [
       "(82559153, 3)"
      ]
     },
     "execution_count": 49,
     "metadata": {},
     "output_type": "execute_result"
    }
   ],
   "source": [
    "df = pd.concat([df1,df2,df3,df4,df5])\n",
    "df.shape"
   ]
  },
  {
   "cell_type": "code",
   "execution_count": 50,
   "metadata": {},
   "outputs": [
    {
     "data": {
      "text/plain": [
       "Benign              82147837\n",
       "DDoS-LOIC-HTTP        164601\n",
       "DDoS-HOIC             164230\n",
       "DoS-GoldenEye          14937\n",
       "SSH-BruteForce         14146\n",
       "FTP-BruteForce         14116\n",
       "DoS-SlowHTTPTest       14116\n",
       "DoS-Hulk               14116\n",
       "DoS-Slowloris           7248\n",
       "DDoS-LOIC-UDP           2896\n",
       "Brute Force-Web          562\n",
       "Brute Force-XSS          240\n",
       "SQL Injection            102\n",
       "Infiltration               6\n",
       "Name: Label, dtype: int64"
      ]
     },
     "execution_count": 50,
     "metadata": {},
     "output_type": "execute_result"
    }
   ],
   "source": [
    "df.Label.value_counts()"
   ]
  },
  {
   "cell_type": "code",
   "execution_count": 85,
   "metadata": {},
   "outputs": [
    {
     "name": "stdout",
     "output_type": "stream",
     "text": [
      "(1000000, 2)\n",
      "(1000000, 2)\n",
      "(1000000, 2)\n",
      "(1000000, 2)\n",
      "(1000000, 2)\n",
      "(1000000, 2)\n",
      "(639418, 2)\n"
     ]
    }
   ],
   "source": [
    "fn = join(dataroot,'fold_0.csv')\n",
    "cols = ['Flow ID','Label']\n",
    "reader = pd.read_csv(fn, usecols=cols, dtype={'Flow ID':str,'Day':str,'Label':str}, chunksize=10**6)\n",
    "for df in reader:\n",
    "    print(df.shape)"
   ]
  },
  {
   "cell_type": "code",
   "execution_count": 106,
   "metadata": {},
   "outputs": [],
   "source": [
    "it = iter(range(5))"
   ]
  },
  {
   "cell_type": "code",
   "execution_count": 107,
   "metadata": {},
   "outputs": [
    {
     "data": {
      "text/plain": [
       "True"
      ]
     },
     "execution_count": 107,
     "metadata": {},
     "output_type": "execute_result"
    }
   ],
   "source": [
    "any(True for _ in it)"
   ]
  },
  {
   "cell_type": "code",
   "execution_count": 108,
   "metadata": {},
   "outputs": [
    {
     "name": "stdout",
     "output_type": "stream",
     "text": [
      "1\n",
      "2\n",
      "3\n",
      "4\n"
     ]
    }
   ],
   "source": [
    "for i in it:\n",
    "    print(i)"
   ]
  },
  {
   "cell_type": "code",
   "execution_count": 109,
   "metadata": {},
   "outputs": [
    {
     "data": {
      "text/plain": [
       "<range_iterator at 0x7f1629823fc0>"
      ]
     },
     "execution_count": 109,
     "metadata": {},
     "output_type": "execute_result"
    }
   ],
   "source": [
    "it"
   ]
  },
  {
   "cell_type": "code",
   "execution_count": null,
   "metadata": {},
   "outputs": [],
   "source": []
  }
 ],
 "metadata": {
  "kernelspec": {
   "display_name": "Python 3",
   "language": "python",
   "name": "python3"
  },
  "language_info": {
   "codemirror_mode": {
    "name": "ipython",
    "version": 3
   },
   "file_extension": ".py",
   "mimetype": "text/x-python",
   "name": "python",
   "nbconvert_exporter": "python",
   "pygments_lexer": "ipython3",
   "version": "3.5.2"
  }
 },
 "nbformat": 4,
 "nbformat_minor": 4
}
