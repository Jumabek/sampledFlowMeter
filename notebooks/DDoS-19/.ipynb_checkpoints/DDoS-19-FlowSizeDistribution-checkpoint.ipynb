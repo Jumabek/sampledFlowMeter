{
 "cells": [
  {
   "cell_type": "code",
   "execution_count": 10,
   "metadata": {},
   "outputs": [],
   "source": [
    "import numpy as np\n",
    "from collections import defaultdict\n",
    "import os\n",
    "from os.path import join \n",
    "import time\n",
    "import pandas as pd\n",
    "import glob\n",
    "\n",
    "import matplotlib.pyplot as plt\n",
    "%matplotlib inline"
   ]
  },
  {
   "cell_type": "code",
   "execution_count": 11,
   "metadata": {},
   "outputs": [],
   "source": [
    "filenames = ['LDAP.csv','MSSQL.csv','NetBIOS.csv','SYN.csv','UDP.csv','UDP-Lag.csv','records.csv'] \n",
    "def read_data(dataroot,file_ending='*Meter.csv'):\n",
    "    fields = ['Flow ID','Tot Fwd Pkts','Tot Bwd Pkts','Label']\n",
    "    df_list = []\n",
    "    for filename in filenames:\n",
    "        df = pd.read_csv(join(dataroot,filename),dtype={'Tot Fwd Pkts':float,'Tot Bwd Pkts':float},usecols=fields)\n",
    "        print(\"Done reading {} with {} records\".format(filename, df.shape[0]))\n",
    "        df_list.append(df)\n",
    "    combined_csv = pd.concat(df_list,sort=False)\n",
    "    combined_csv['flow_length']=(combined_csv['Tot Fwd Pkts'].astype(float)+combined_csv['Tot Bwd Pkts'].astype(float))\n",
    "    combined_csv.drop(columns=['Tot Fwd Pkts','Tot Bwd Pkts'])\n",
    "    return combined_csv\n"
   ]
  },
  {
   "cell_type": "code",
   "execution_count": 12,
   "metadata": {},
   "outputs": [
    {
     "name": "stdout",
     "output_type": "stream",
     "text": [
      "Done reading LDAP.csv with 708437 records\n",
      "Done reading MSSQL.csv with 1844888 records\n",
      "Done reading NetBIOS.csv with 1316765 records\n",
      "Done reading SYN.csv with 2254399 records\n",
      "Done reading UDP.csv with 2037446 records\n",
      "Done reading UDP-Lag.csv with 1347 records\n",
      "Done reading records.csv with 12 records\n"
     ]
    }
   ],
   "source": [
    "dataroot = '/data/juma/data/ddos/CSVs_r_1.0/SR_20/RPS_SI_5/PCAP-03-11_l'\n",
    "data = read_data(dataroot)"
   ]
  },
  {
   "cell_type": "code",
   "execution_count": 13,
   "metadata": {},
   "outputs": [
    {
     "name": "stdout",
     "output_type": "stream",
     "text": [
      "#flowRecords vs #flows {} vs. {} 8163294 7729503\n"
     ]
    },
    {
     "data": {
      "image/png": "[encoded data removed]",
      "text/plain": [
       "<Figure size 432x288 with 1 Axes>"
      ]
     },
     "metadata": {
      "needs_background": "light"
     },
     "output_type": "display_data"
    },
    {
     "data": {
      "text/plain": [
       "<Figure size 432x288 with 0 Axes>"
      ]
     },
     "metadata": {},
     "output_type": "display_data"
    }
   ],
   "source": [
    "gdata = data.groupby(['Flow ID','Label'],as_index=False).sum()\n",
    "\n",
    "print(\"#flowRecords vs #flows {} vs. {}\",data.shape[0],gdata.shape[0])\n",
    "with open(join(dataroot,'num_flows.txt'),'w') as f:\n",
    "    f.write(str(gdata.shape[0]))\n",
    "\n",
    "step=0.01\n",
    "indices = np.arange(0,1+step,step)\n",
    "grouping_by_label = gdata.groupby(['Label'])\n",
    "for label in gdata.Label.unique():\n",
    "    quantile = grouping_by_label.get_group(label)['flow_length'].quantile(indices)\n",
    "    plt.plot(quantile,indices,label=label)\n",
    "\n",
    "plt.legend()\n",
    "plt.title('DDoS-2019')\n",
    "plt.xscale('log')\n",
    "plt.xlabel('Flow Size (logscale)')\n",
    "plt.ylabel('CDF')\n",
    "plt.grid()\n",
    "plt.show()\n",
    "plt.savefig(join(dataroot,'flow_length_percentile.png'))\n"
   ]
  }
 ],
 "metadata": {
  "kernelspec": {
   "display_name": "Python 3",
   "language": "python",
   "name": "python3"
  },
  "language_info": {
   "codemirror_mode": {
    "name": "ipython",
    "version": 3
   },
   "file_extension": ".py",
   "mimetype": "text/x-python",
   "name": "python",
   "nbconvert_exporter": "python",
   "pygments_lexer": "ipython3",
   "version": "3.7.6"
  }
 },
 "nbformat": 4,
 "nbformat_minor": 2
}
