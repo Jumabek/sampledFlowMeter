{
 "cells": [
  {
   "cell_type": "code",
   "execution_count": 9,
   "metadata": {},
   "outputs": [],
   "source": [
    "import glob\n",
    "import os\n",
    "from os.path import join\n",
    "from numpy import genfromtxt\n",
    "import numpy as np\n",
    "import pandas as pd\n",
    "import matplotlib.pyplot as plt\n",
    "%matplotlib inline\n",
    "font = {'size'   : 20}\n",
    "plt.rc('font', **font)"
   ]
  },
  {
   "cell_type": "code",
   "execution_count": 10,
   "metadata": {},
   "outputs": [],
   "source": [
    "def get_sampled_data_dirs(root,mode='train'):\n",
    "    if mode=='train':\n",
    "        folder = '*/PCAP-01-12'\n",
    "    elif mode=='test':\n",
    "        folder = '*/PCAP-03-11'\n",
    "        \n",
    "    dirs = [d for d in glob.glob(join(root,folder))]\n",
    "    return dirs"
   ]
  },
  {
   "cell_type": "code",
   "execution_count": 11,
   "metadata": {},
   "outputs": [],
   "source": [
    "def get_pkt_count(dirs,ending):\n",
    "    counts = []\n",
    "    for d in dirs:\n",
    "        num_sampled_pkts = 0\n",
    "        filename = join(d,ending)\n",
    "        #print(\"reading pkt count for filenbames \", filename)\n",
    "        for f in glob.glob(filename):\n",
    "            spc = int(open(f).readline())\n",
    "            #print(\"spc = \", spc)\n",
    "            num_sampled_pkts += spc\n",
    "            #print()\n",
    "        counts.append(num_sampled_pkts)\n",
    "    return counts"
   ]
  },
  {
   "cell_type": "code",
   "execution_count": 12,
   "metadata": {},
   "outputs": [],
   "source": [
    "def get_count_dir_names(dirs,ending):\n",
    "    pkt_counts = np.array(get_pkt_count(dirs,ending))\n",
    "    #flow_counts = np.array(get_flow_count(dirs))\n",
    "    flow_counts = pkt_counts\n",
    "    dir_names = np.array([os.path.basename(os.path.split(d)[0]) for d in dirs])\n",
    "        \n",
    "    sorted_index = np.argsort(dir_names)\n",
    "    pkt_counts = pkt_counts[sorted_index]\n",
    "    flow_counts = flow_counts[sorted_index]\n",
    "\n",
    "    dir_names = dir_names[sorted_index]\n",
    "    return flow_counts,pkt_counts,dir_names"
   ]
  },
  {
   "cell_type": "code",
   "execution_count": 13,
   "metadata": {},
   "outputs": [],
   "source": [
    "import math\n",
    "def autolabel(rects, whole_cnt,SR=10, xpos='center'):    \n",
    "    \"\"\"\n",
    "    Attach a text label above each bar in *rects*, displaying its height.\n",
    "\n",
    "    *xpos* indicates which side to place the text w.r.t. the center of\n",
    "    the bar. It can be one of the following {'center', 'right', 'left'}.\n",
    "    \"\"\"\n",
    "    \n",
    "    SI = 100/SR\n",
    "    \n",
    "    ha = {'center': 'center', 'right': 'left', 'left': 'right'}\n",
    "    offset = {'center': 0, 'right': 1, 'left': -1}\n",
    "    max_height = 0\n",
    "    for rect in rects:\n",
    "        height = rect.get_height()\n",
    "        if height > max_height:\n",
    "            max_height = height\n",
    "            \n",
    "    for rect in rects:\n",
    "        height = rect.get_height()\n",
    "        ax.annotate('{0:.2f}%'.format((100*height/whole_cnt)/SI),\n",
    "                    xy=(rect.get_x() + rect.get_width() / 2, height),\n",
    "                    xytext=(offset[xpos]*3, 1),  # use 3 points offset\n",
    "                    textcoords=\"offset points\",  # in both directions\n",
    "                    ha=ha[xpos], va='bottom')"
   ]
  },
  {
   "cell_type": "code",
   "execution_count": 14,
   "metadata": {},
   "outputs": [],
   "source": [
    "def color_code_sampler_by_name(dir_name):    \n",
    "        if 'SFS' in dir_name:\n",
    "            color='orange'\n",
    "            label = 'SFS'\n",
    "            full_name = 'SketchFlow'\n",
    "        elif 'SGS' in dir_name:\n",
    "            color = 'green'\n",
    "            label = 'SGS'\n",
    "            full_name = 'Sketch Guided'\n",
    "        elif 'RPS' in dir_name:\n",
    "            color = 'blue'\n",
    "            label = 'RPS'\n",
    "            full_name = 'Random Packet Sampling'\n",
    "        elif 'FFS_(' in dir_name:\n",
    "            color = 'red'\n",
    "            label = 'FFS'\n",
    "            full_name = 'Fast Filtered'\n",
    "        elif 'SEL' in dir_name:\n",
    "            color = 'purple'\n",
    "            label = 'SEL'\n",
    "            full_name = 'Selective Flow'\n",
    "        elif 'whole' in dir_name or 'cicflow' in dir_name:\n",
    "            color = 'gray'\n",
    "            label = 'whole data'\n",
    "        else:\n",
    "            print('Investigate plot_comparison',dir_name)\n",
    "        return label, full_name, color"
   ]
  },
  {
   "cell_type": "code",
   "execution_count": 15,
   "metadata": {},
   "outputs": [],
   "source": [
    "def plot_comparison(dir_names,counts,ax,y_label,whole_cnt):\n",
    "    colors = ['g','y','b','r','m','g','y','b','r','m']\n",
    "    counts = counts/1000000\n",
    "    whole_cnt = whole_cnt/1000000\n",
    "    ind = np.arange(len(dir_names))*20\n",
    "    width=15\n",
    "    N = len(dirs)\n",
    "    labels = []\n",
    "    tick_labels = []\n",
    "    \n",
    "    for i,dir_name in enumerate(dir_names):\n",
    "        label,full_name,color = color_code_sampler_by_name(dir_name)\n",
    "        tick_labels.append(label)\n",
    "        rects = ax.bar(ind[i],counts[i],label=label + ' - ' + full_name,width=width,color=color)\n",
    "        autolabel(rects,whole_cnt,SR=10)\n",
    "    #Add some text for labels, title and custom x-axis tick labels, etc.    \n",
    "    #ax.set_title('Finding Equivalent Sampling Rate for comparision')\n",
    "    ax.set_xticks(ind)\n",
    "    #ax.set_xticklabels(tick_labels)\n",
    "    ax.set_xticklabels(dir_names,rotation=45)\n",
    "    ax.set_ylabel(y_label)\n",
    "    ylim= 1.6*max(counts)\n",
    "    ax.set_ylim(0,ylim)    \n",
    "    ax.grid(linewidth=2)\n",
    "    #ax.margins(0.15)\n",
    "    "
   ]
  },
  {
   "cell_type": "code",
   "execution_count": 17,
   "metadata": {
    "scrolled": true
   },
   "outputs": [
    {
     "data": {
      "image/png": "[encoded data removed]",
      "text/plain": [
       "<Figure size 1800x432 with 1 Axes>"
      ]
     },
     "metadata": {
      "needs_background": "light"
     },
     "output_type": "display_data"
    }
   ],
   "source": [
    "font = {'size'   : 20}\n",
    "plt.rc('font', **font)\n",
    "root = '/data/juma/data/ddos/CSVs_r_1.0/SR_50'\n",
    "ending = '*_SPC.txt'\n",
    "#mode = 'train'\n",
    "mode='test'\n",
    "dirs = get_sampled_data_dirs(root,mode=mode)\n",
    "flow_counts,pkt_counts,dir_names = get_count_dir_names(dirs,ending)\n",
    "\n",
    "# obtain baseline percentage(%)\n",
    "baseline_index = np.where(dir_names=='RPS_SI_2')[0][0]\n",
    "baseline_pkt_count = pkt_counts[baseline_index]\n",
    "baseline_flow_count = flow_counts[baseline_index]\n",
    "\n",
    "#by packet count\n",
    "plt.clf()\n",
    "plt.close()\n",
    "fig, ax = plt.subplots(nrows=1,ncols=1,sharex=False,figsize=(25,6))\n",
    "plot_comparison(dir_names,pkt_counts,ax,'pkt count (M)', baseline_pkt_count)\n",
    "box = ax.get_position()\n",
    "fig.tight_layout()\n",
    "plt.savefig(join(root,'Inconsistency_train_pkt_sr_10.png'), bbox_inches='tight')\n",
    "plt.show()"
   ]
  },
  {
   "cell_type": "code",
   "execution_count": null,
   "metadata": {},
   "outputs": [],
   "source": []
  },
  {
   "cell_type": "code",
   "execution_count": null,
   "metadata": {},
   "outputs": [],
   "source": []
  }
 ],
 "metadata": {
  "kernelspec": {
   "display_name": "Python 3",
   "language": "python",
   "name": "python3"
  },
  "language_info": {
   "codemirror_mode": {
    "name": "ipython",
    "version": 3
   },
   "file_extension": ".py",
   "mimetype": "text/x-python",
   "name": "python",
   "nbconvert_exporter": "python",
   "pygments_lexer": "ipython3",
   "version": "3.7.6"
  }
 },
 "nbformat": 4,
 "nbformat_minor": 2
}
